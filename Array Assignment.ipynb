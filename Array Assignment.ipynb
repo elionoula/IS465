{
 "cells": [
  {
   "cell_type": "markdown",
   "metadata": {},
   "source": [
    "# NumPy Exercises \n"
   ]
  },
  {
   "cell_type": "markdown",
   "metadata": {},
   "source": [
    "## Defining an array\n"
   ]
  },
  {
   "cell_type": "markdown",
   "metadata": {},
   "source": [
    "#### Import NumPy as np"
   ]
  },
  {
   "cell_type": "code",
   "execution_count": 2,
   "metadata": {},
   "outputs": [],
   "source": [
    "import numpy as np"
   ]
  },
  {
   "cell_type": "markdown",
   "metadata": {},
   "source": [
    "#### Create an array of 10 zeros "
   ]
  },
  {
   "cell_type": "code",
   "execution_count": 11,
   "metadata": {},
   "outputs": [
    {
     "data": {
      "text/plain": "array([0., 0., 0., 0., 0., 0., 0., 0., 0., 0.])"
     },
     "execution_count": 11,
     "metadata": {},
     "output_type": "execute_result"
    }
   ],
   "source": [
    "x = np.zeros(10)\n",
    "x"
   ]
  },
  {
   "cell_type": "markdown",
   "metadata": {},
   "source": [
    "#### Create an array of 10 ones"
   ]
  },
  {
   "cell_type": "code",
   "execution_count": 8,
   "metadata": {},
   "outputs": [
    {
     "data": {
      "text/plain": "array([1., 1., 1., 1., 1., 1., 1., 1., 1., 1.])"
     },
     "execution_count": 8,
     "metadata": {},
     "output_type": "execute_result"
    }
   ],
   "source": [
    "x = np.ones(10)\n",
    "x"
   ]
  },
  {
   "cell_type": "markdown",
   "metadata": {},
   "source": [
    "#### Create an array of 10 tens"
   ]
  },
  {
   "cell_type": "code",
   "execution_count": 7,
   "metadata": {},
   "outputs": [
    {
     "data": {
      "text/plain": "array([10, 10, 10, 10, 10, 10, 10, 10, 10, 10])"
     },
     "execution_count": 7,
     "metadata": {},
     "output_type": "execute_result"
    }
   ],
   "source": [
    "x = np.full(10,10)\n",
    "x"
   ]
  },
  {
   "cell_type": "markdown",
   "metadata": {},
   "source": [
    "#### Create an array of the integers from 10 to 100"
   ]
  },
  {
   "cell_type": "code",
   "execution_count": 13,
   "metadata": {},
   "outputs": [
    {
     "data": {
      "text/plain": "array([ 10,  11,  12,  13,  14,  15,  16,  17,  18,  19,  20,  21,  22,\n        23,  24,  25,  26,  27,  28,  29,  30,  31,  32,  33,  34,  35,\n        36,  37,  38,  39,  40,  41,  42,  43,  44,  45,  46,  47,  48,\n        49,  50,  51,  52,  53,  54,  55,  56,  57,  58,  59,  60,  61,\n        62,  63,  64,  65,  66,  67,  68,  69,  70,  71,  72,  73,  74,\n        75,  76,  77,  78,  79,  80,  81,  82,  83,  84,  85,  86,  87,\n        88,  89,  90,  91,  92,  93,  94,  95,  96,  97,  98,  99, 100])"
     },
     "execution_count": 13,
     "metadata": {},
     "output_type": "execute_result"
    }
   ],
   "source": [
    "x = np.arange(10,101,1)\n",
    "x"
   ]
  },
  {
   "cell_type": "markdown",
   "metadata": {},
   "source": [
    "#### Create an array of all the odd integers from 10 to 30"
   ]
  },
  {
   "cell_type": "code",
   "execution_count": 16,
   "metadata": {},
   "outputs": [
    {
     "data": {
      "text/plain": "array([11, 13, 15, 17, 19, 21, 23, 25, 27, 29])"
     },
     "execution_count": 16,
     "metadata": {},
     "output_type": "execute_result"
    }
   ],
   "source": [
    "x = np.arange(11,31,2)\n",
    "x"
   ]
  },
  {
   "cell_type": "markdown",
   "metadata": {},
   "source": [
    "#### Create a 3x3 array with values ranging from 0 to 8 "
   ]
  },
  {
   "cell_type": "code",
   "execution_count": 27,
   "metadata": {},
   "outputs": [
    {
     "data": {
      "text/plain": "array([[0, 1, 2],\n       [3, 4, 5],\n       [6, 7, 8]])"
     },
     "execution_count": 27,
     "metadata": {},
     "output_type": "execute_result"
    }
   ],
   "source": [
    "a = np.array([[0,1,2],[3,4,5],[6,7,8]])\n",
    "My_2DArray = a\n",
    "My_2DArray"
   ]
  },
  {
   "cell_type": "markdown",
   "metadata": {},
   "source": [
    "#### Create an array of 25 random numbers between 0 and 1"
   ]
  },
  {
   "cell_type": "code",
   "execution_count": 28,
   "metadata": {},
   "outputs": [
    {
     "data": {
      "text/plain": "array([0.75405611, 0.69012875, 0.37645629, 0.54715183, 0.63445848,\n       0.20456085, 0.73898775, 0.01876513, 0.66916937, 0.21008869,\n       0.65665412, 0.52664682, 0.32754296, 0.94360837, 0.1797905 ,\n       0.87855423, 0.87943839, 0.76257732, 0.36845712, 0.18460855,\n       0.52398066, 0.6466014 , 0.79373338, 0.53303339, 0.34698157])"
     },
     "execution_count": 28,
     "metadata": {},
     "output_type": "execute_result"
    }
   ],
   "source": [
    "x = np.random.rand(25)\n",
    "x\n"
   ]
  },
  {
   "cell_type": "markdown",
   "metadata": {},
   "source": [
    "#### Create an array of 40 linearly spaced points between 0 and 10:"
   ]
  },
  {
   "cell_type": "code",
   "execution_count": 31,
   "metadata": {},
   "outputs": [
    {
     "data": {
      "text/plain": "array([ 0.        ,  0.25641026,  0.51282051,  0.76923077,  1.02564103,\n        1.28205128,  1.53846154,  1.79487179,  2.05128205,  2.30769231,\n        2.56410256,  2.82051282,  3.07692308,  3.33333333,  3.58974359,\n        3.84615385,  4.1025641 ,  4.35897436,  4.61538462,  4.87179487,\n        5.12820513,  5.38461538,  5.64102564,  5.8974359 ,  6.15384615,\n        6.41025641,  6.66666667,  6.92307692,  7.17948718,  7.43589744,\n        7.69230769,  7.94871795,  8.20512821,  8.46153846,  8.71794872,\n        8.97435897,  9.23076923,  9.48717949,  9.74358974, 10.        ])"
     },
     "execution_count": 31,
     "metadata": {},
     "output_type": "execute_result"
    }
   ],
   "source": [
    "x = np.linspace(0,10,40)\n",
    "x"
   ]
  },
  {
   "cell_type": "markdown",
   "metadata": {},
   "source": [
    "## Indexing \n"
   ]
  },
  {
   "cell_type": "code",
   "execution_count": 32,
   "metadata": {},
   "outputs": [
    {
     "data": {
      "text/plain": "array([[ 1,  2,  3,  4,  5,  6],\n       [ 7,  8,  9, 10, 11, 12],\n       [13, 14, 15, 16, 17, 18],\n       [19, 20, 21, 22, 23, 24]])"
     },
     "execution_count": 32,
     "metadata": {},
     "output_type": "execute_result"
    }
   ],
   "source": [
    "#You are given the following 2D array\n",
    "a = np.arange(1,25).reshape(4,-1)\n",
    "a"
   ]
  },
  {
   "cell_type": "code",
   "execution_count": 37,
   "metadata": {},
   "outputs": [
    {
     "data": {
      "text/plain": "array([[ 9, 10, 11, 12],\n       [15, 16, 17, 18],\n       [21, 22, 23, 24]])"
     },
     "execution_count": 37,
     "metadata": {},
     "output_type": "execute_result"
    }
   ],
   "source": [
    "# Use array indexing to select the subset that contains 9,10,11,12,15,16,17,18,21,22,23,24. \n",
    "# In other words, the 3 * 4 sub-matrix in the bottom right corner of your array\n",
    "# I have shown you the output -- be careful, if you run your code, it is going to \"wipe out\" my output\n",
    "a[1:,2:]"
   ]
  },
  {
   "cell_type": "code",
   "execution_count": 39,
   "metadata": {},
   "outputs": [
    {
     "data": {
      "text/plain": "20"
     },
     "execution_count": 39,
     "metadata": {},
     "output_type": "execute_result"
    }
   ],
   "source": [
    "# Use array indexing  get the value 20, as my output shows\n",
    "a[3,1]"
   ]
  },
  {
   "cell_type": "code",
   "execution_count": 78,
   "metadata": {},
   "outputs": [
    {
     "data": {
      "text/plain": "array([[10],\n       [16],\n       [22]])"
     },
     "execution_count": 78,
     "metadata": {},
     "output_type": "execute_result"
    }
   ],
   "source": [
    "# Use array indexing  get the column 10, 16, 22, as my output shows\n",
    "a[1:,3, None]"
   ]
  },
  {
   "cell_type": "code",
   "execution_count": 91,
   "metadata": {},
   "outputs": [
    {
     "data": {
      "text/plain": "array([15, 16, 17])"
     },
     "execution_count": 91,
     "metadata": {},
     "output_type": "execute_result"
    }
   ],
   "source": [
    "# Use array indexing  get the row [15,16,17] as my output shows\n",
    "a[2,2:5]"
   ]
  },
  {
   "cell_type": "markdown",
   "metadata": {},
   "source": [
    "### Now the hard task!"
   ]
  },
  {
   "cell_type": "markdown",
   "metadata": {},
   "source": [
    "#### Write a function that gives the users four random integers between 1 and 10 and ask them to enter the square number of them. If the user answers all of them correctly, congratulate them. Otherwise, show them the right answer"
   ]
  },
  {
   "cell_type": "code",
   "execution_count": 108,
   "metadata": {
    "pycharm": {
     "name": "#%%\n"
    }
   },
   "outputs": [
    {
     "name": "stdout",
     "output_type": "stream",
     "text": [
      "Enter Square of Number [ 9 10  1  7]\n",
      "Enter square of 9: Enter square of 10: Enter square of 1: Enter square of 7: "
     ]
    }
   ],
   "source": [
    "# Step 0: Import numpy -- ALWAYS import all the libraries you need at the beginning!\n",
    "import numpy as np\n",
    "import random\n",
    "\n",
    "#Step 1: Function creation -- refer to the last lab for the syntax of function creation\n",
    "# does our function take parameters?\n",
    "# Create your function here:\n",
    "\n",
    "def getRandomSq():\n",
    "    \n",
    "#Step 2: Create an array of four random integers between 1 and 10 \n",
    "\n",
    "rand_numbers = np.asarray(random.sample(range(1,11),4))\n",
    "squares = [number*number for number in rand_numbers]\n",
    "\n",
    "#Step 3: Print your numbers\n",
    "\n",
    "rand_numbers\n",
    "\n",
    "#Step 4: Prompt the user to enter four numbers, ONE AT A TIME. Use a loop to store these four numbers in a new array\n",
    "#  HINT 1: We could take all four numbers in through one line, but to practice loop, let's do it the hard way\n",
    "#  HINT 2: You can start by creating an empty array -- np.array([]), then appending to it one at a time\n",
    "#  HINT 3: Remember, input() only returns STRINGS. You need to turn them into integers\n",
    "\n",
    "print(\"Enter Square of Number\", rand_numbers)\n",
    "input_array = np.array([],dtype=int)\n",
    "for i in range (0,4):\n",
    "    print(\"Enter square of \" + str(rand_numbers[i]) + \": \",end=\"\")\n",
    "    num = int(input(\"\"))\n",
    "    input_array = np.append(input_array,num)\n",
    "\n",
    "#Step 5: Now that you have the two arrays, you can compare them using array functions and decide whether the answers are correct\n",
    "#  HINT 4: To compare two arrays, you can use array1 == array2 -- however, you have to use a variable to hold the result\n",
    "#          The resulted array is an array of Boolean values. To quickly check whether it contains true value, you might want to\n",
    "#          use the all() or any() function...\n",
    "\n",
    "result = input_array == squares\n",
    "if all(result) == True:\n",
    "    print(\"Congratulations...\")\n",
    "else:\n",
    "    print('Wrong Answers:')\n",
    "    for i in range(0,len(result)):\n",
    "        if result[i] == False:\n",
    "            print(\"You have entered square of {} as {}. The correct square value is {}\".format(rand_numbers[i],input_array[i],squares[i]))\n",
    "\n",
    "getRandomSq()"
   ]
  },
  {
   "cell_type": "code",
   "execution_count": null,
   "outputs": [],
   "source": [],
   "metadata": {
    "collapsed": false,
    "pycharm": {
     "name": "#%%\n"
    }
   }
  }
 ],
 "metadata": {
  "kernelspec": {
   "display_name": "Python 3",
   "language": "python",
   "name": "python3"
  },
  "language_info": {
   "codemirror_mode": {
    "name": "ipython",
    "version": 3
   },
   "file_extension": ".py",
   "mimetype": "text/x-python",
   "name": "python",
   "nbconvert_exporter": "python",
   "pygments_lexer": "ipython3",
   "version": "3.7.4"
  }
 },
 "nbformat": 4,
 "nbformat_minor": 1
}