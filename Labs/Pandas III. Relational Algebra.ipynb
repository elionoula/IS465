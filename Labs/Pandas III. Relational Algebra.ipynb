{
 "cells": [
  {
   "cell_type": "markdown",
   "metadata": {},
   "source": [
    "# In this session, we learn how to use dataFrame to perform relational algebra operations. In other words, how to manipulate table data using dataFrame"
   ]
  },
  {
   "cell_type": "markdown",
   "metadata": {},
   "source": [
    "## <font color=\"blue\"> 1. Set Up For Our Lab</font>"
   ]
  },
  {
   "cell_type": "code",
   "execution_count": null,
   "metadata": {},
   "outputs": [],
   "source": [
    "import pandas as pd\n",
    "import numpy as np"
   ]
  },
  {
   "cell_type": "code",
   "execution_count": null,
   "metadata": {},
   "outputs": [],
   "source": [
    "#Please download the \"movie\" excel file to your working folder and read it\n",
    "movie = pd.read_excel('movie.xlsx')\n",
    "movie"
   ]
  },
  {
   "cell_type": "markdown",
   "metadata": {},
   "source": [
    "## <font color=\"blue\"> 2. Selection </font>"
   ]
  },
  {
   "cell_type": "code",
   "execution_count": null,
   "metadata": {},
   "outputs": [],
   "source": [
    "# In relational algebra, we talk about how to apply certain selection criteria to select a subset of rows.\n",
    "# This is done in pandas through \"conditional selection\" using bracket notation, very similar to numpy. \n",
    "# Exercise 1: Selecti all rows with a price higher than $3\n",
    "# STEP 1: We need to conduct the logic comparison first:\n",
    "movie.Price > 3"
   ]
  },
  {
   "cell_type": "code",
   "execution_count": null,
   "metadata": {},
   "outputs": [],
   "source": [
    "# STEP 2: We use this bolean series in our bracket as a selection criteria\n",
    "movie[movie.Price > 3]\n"
   ]
  },
  {
   "cell_type": "code",
   "execution_count": null,
   "metadata": {},
   "outputs": [],
   "source": [
    "#Excercise 1: Select all movies with a price higher than $5 OR lower than $3\n"
   ]
  },
  {
   "cell_type": "code",
   "execution_count": null,
   "metadata": {},
   "outputs": [],
   "source": [
    "#Excercise 2: Select all action movies"
   ]
  },
  {
   "cell_type": "code",
   "execution_count": null,
   "metadata": {},
   "outputs": [],
   "source": [
    "#Selecting rows based on multiple column conditions using '&' operator.\n",
    "# When we have multiple conditions, we use the '&' logic operator to help:\n",
    "# Select all action movies cheaper than $4\n",
    "# 1. Action movies:\n",
    "a = movie.Genre == 'Action'"
   ]
  },
  {
   "cell_type": "code",
   "execution_count": null,
   "metadata": {},
   "outputs": [],
   "source": [
    "#2. Greater than $4:\n",
    "b = movie.Price > 4"
   ]
  },
  {
   "cell_type": "code",
   "execution_count": null,
   "metadata": {},
   "outputs": [],
   "source": [
    "#3. now we need to merget the two with the \"&\" logic\n",
    "a & b"
   ]
  },
  {
   "cell_type": "code",
   "execution_count": null,
   "metadata": {},
   "outputs": [],
   "source": [
    "#4. Finally, return the row:\n",
    "movie[a&b]"
   ]
  },
  {
   "cell_type": "code",
   "execution_count": null,
   "metadata": {},
   "outputs": [],
   "source": [
    "# Or, we can just do:\n",
    "movie[(movie.Genre == 'Action') & (movie.Price > 4)]"
   ]
  },
  {
   "cell_type": "markdown",
   "metadata": {},
   "source": [
    "## <font color=\"blue\"> 3.  Projection </font>"
   ]
  },
  {
   "cell_type": "code",
   "execution_count": null,
   "metadata": {},
   "outputs": [],
   "source": [
    "# The \"Projection\" operator in relational algebra is simply choosing a column in Pandas\n",
    "# Select the Price column:\n",
    "movie.Price"
   ]
  },
  {
   "cell_type": "code",
   "execution_count": null,
   "metadata": {},
   "outputs": [],
   "source": [
    "# What if I just want to select UNIQUE values? First, let me introduce a redundant value:\n",
    "movie.iloc[4,2] = 5.99\n",
    "movie"
   ]
  },
  {
   "cell_type": "code",
   "execution_count": null,
   "metadata": {},
   "outputs": [],
   "source": [
    "# Now we can use the \"unique\" method to choose unique values\n",
    "movie.Price.unique()"
   ]
  },
  {
   "cell_type": "code",
   "execution_count": null,
   "metadata": {},
   "outputs": [],
   "source": [
    "# Select \"Price\" and \"Genre\":\n",
    "movie[['Price','Genre']]"
   ]
  },
  {
   "cell_type": "code",
   "execution_count": null,
   "metadata": {},
   "outputs": [],
   "source": [
    "# Of course, you can still use all the loc and iloc tricks we talked about before..."
   ]
  },
  {
   "cell_type": "markdown",
   "metadata": {},
   "source": [
    "## <font color=\"blue\"> 4.  Group By </font>"
   ]
  },
  {
   "cell_type": "code",
   "execution_count": null,
   "metadata": {},
   "outputs": [],
   "source": [
    "# The groupby method allows you to group rows of data together \n",
    "movie.groupby('Genre')"
   ]
  },
  {
   "cell_type": "code",
   "execution_count": null,
   "metadata": {},
   "outputs": [],
   "source": [
    "print(movie.groupby('Genre'))"
   ]
  },
  {
   "cell_type": "code",
   "execution_count": null,
   "metadata": {},
   "outputs": [],
   "source": [
    "# Notice that you CANNOT print the actual group by object -- it provides you with a ground for aggregation functions\n",
    "# For example:\n",
    "print(movie.groupby('Genre').min())\n",
    "print(movie.groupby('Genre').max())\n",
    "print(movie.groupby('Genre').count())\n",
    "print(movie.groupby('Genre').mean())\n",
    "print(movie.groupby('Genre').std())"
   ]
  },
  {
   "cell_type": "code",
   "execution_count": null,
   "metadata": {},
   "outputs": [],
   "source": [
    "# Or, the do-it-all summary stats operator:\n",
    "print(movie.groupby('Genre').describe())"
   ]
  }
 ],
 "metadata": {
  "kernelspec": {
   "display_name": "Python 3",
   "language": "python",
   "name": "python3"
  },
  "language_info": {
   "codemirror_mode": {
    "name": "ipython",
    "version": 3
   },
   "file_extension": ".py",
   "mimetype": "text/x-python",
   "name": "python",
   "nbconvert_exporter": "python",
   "pygments_lexer": "ipython3",
   "version": "3.7.4"
  }
 },
 "nbformat": 4,
 "nbformat_minor": 2
}
