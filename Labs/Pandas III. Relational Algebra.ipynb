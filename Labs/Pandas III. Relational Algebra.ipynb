{
 "cells": [
  {
   "cell_type": "markdown",
   "metadata": {},
   "source": [
    "# In this session, we learn how to use dataFrame to perform relational algebra operations. In other words, how to manipulate table data using dataFrame"
   ]
  },
  {
   "cell_type": "markdown",
   "metadata": {},
   "source": [
    "## <font color=\"blue\"> 1. Set Up For Our Lab</font>"
   ]
  },
  {
   "cell_type": "code",
   "execution_count": 1,
   "metadata": {},
   "outputs": [],
   "source": [
    "import pandas as pd\n",
    "import numpy as np"
   ]
  },
  {
   "cell_type": "code",
   "execution_count": 2,
   "metadata": {},
   "outputs": [
    {
     "data": {
      "text/plain": "  MovieID           MovieName  Price   Genre\n0      F1   Jurassic Park III   2.99  Action\n1      F2          The Others   3.55  Horror\n2      F3           Senseless   5.99  Comedy\n3      F4        Dragon Heart   6.00   Drama\n4      F5                   7   5.00  Action\n5      F6  America Sweetheart   0.59  Comedy",
      "text/html": "<div>\n<style scoped>\n    .dataframe tbody tr th:only-of-type {\n        vertical-align: middle;\n    }\n\n    .dataframe tbody tr th {\n        vertical-align: top;\n    }\n\n    .dataframe thead th {\n        text-align: right;\n    }\n</style>\n<table border=\"1\" class=\"dataframe\">\n  <thead>\n    <tr style=\"text-align: right;\">\n      <th></th>\n      <th>MovieID</th>\n      <th>MovieName</th>\n      <th>Price</th>\n      <th>Genre</th>\n    </tr>\n  </thead>\n  <tbody>\n    <tr>\n      <th>0</th>\n      <td>F1</td>\n      <td>Jurassic Park III</td>\n      <td>2.99</td>\n      <td>Action</td>\n    </tr>\n    <tr>\n      <th>1</th>\n      <td>F2</td>\n      <td>The Others</td>\n      <td>3.55</td>\n      <td>Horror</td>\n    </tr>\n    <tr>\n      <th>2</th>\n      <td>F3</td>\n      <td>Senseless</td>\n      <td>5.99</td>\n      <td>Comedy</td>\n    </tr>\n    <tr>\n      <th>3</th>\n      <td>F4</td>\n      <td>Dragon Heart</td>\n      <td>6.00</td>\n      <td>Drama</td>\n    </tr>\n    <tr>\n      <th>4</th>\n      <td>F5</td>\n      <td>7</td>\n      <td>5.00</td>\n      <td>Action</td>\n    </tr>\n    <tr>\n      <th>5</th>\n      <td>F6</td>\n      <td>America Sweetheart</td>\n      <td>0.59</td>\n      <td>Comedy</td>\n    </tr>\n  </tbody>\n</table>\n</div>"
     },
     "execution_count": 2,
     "metadata": {},
     "output_type": "execute_result"
    }
   ],
   "source": [
    "#Please download the \"movie\" excel file to your working folder and read it\n",
    "movie = pd.read_excel('Movie.xlsx')\n",
    "movie"
   ]
  },
  {
   "cell_type": "markdown",
   "metadata": {},
   "source": [
    "## <font color=\"blue\"> 2. Selection </font>"
   ]
  },
  {
   "cell_type": "code",
   "execution_count": 4,
   "metadata": {},
   "outputs": [
    {
     "data": {
      "text/plain": "0    False\n1     True\n2     True\n3     True\n4     True\n5    False\nName: Price, dtype: bool"
     },
     "execution_count": 4,
     "metadata": {},
     "output_type": "execute_result"
    }
   ],
   "source": [
    "# In relational algebra, we talk about how to apply certain selection criteria to select a subset of rows.\n",
    "# This is done in pandas through \"conditional selection\" using bracket notation, very similar to numpy. \n",
    "# Exercise 1: Selecti all rows with a price higher than $3\n",
    "# STEP 1: We need to conduct the logic comparison first:\n",
    "movie.Price > 3"
   ]
  },
  {
   "cell_type": "code",
   "execution_count": 5,
   "metadata": {},
   "outputs": [
    {
     "data": {
      "text/plain": "  MovieID     MovieName  Price   Genre\n1      F2    The Others   3.55  Horror\n2      F3     Senseless   5.99  Comedy\n3      F4  Dragon Heart   6.00   Drama\n4      F5             7   5.00  Action",
      "text/html": "<div>\n<style scoped>\n    .dataframe tbody tr th:only-of-type {\n        vertical-align: middle;\n    }\n\n    .dataframe tbody tr th {\n        vertical-align: top;\n    }\n\n    .dataframe thead th {\n        text-align: right;\n    }\n</style>\n<table border=\"1\" class=\"dataframe\">\n  <thead>\n    <tr style=\"text-align: right;\">\n      <th></th>\n      <th>MovieID</th>\n      <th>MovieName</th>\n      <th>Price</th>\n      <th>Genre</th>\n    </tr>\n  </thead>\n  <tbody>\n    <tr>\n      <th>1</th>\n      <td>F2</td>\n      <td>The Others</td>\n      <td>3.55</td>\n      <td>Horror</td>\n    </tr>\n    <tr>\n      <th>2</th>\n      <td>F3</td>\n      <td>Senseless</td>\n      <td>5.99</td>\n      <td>Comedy</td>\n    </tr>\n    <tr>\n      <th>3</th>\n      <td>F4</td>\n      <td>Dragon Heart</td>\n      <td>6.00</td>\n      <td>Drama</td>\n    </tr>\n    <tr>\n      <th>4</th>\n      <td>F5</td>\n      <td>7</td>\n      <td>5.00</td>\n      <td>Action</td>\n    </tr>\n  </tbody>\n</table>\n</div>"
     },
     "execution_count": 5,
     "metadata": {},
     "output_type": "execute_result"
    }
   ],
   "source": [
    "# STEP 2: We use this bolean series in our bracket as a selection criteria\n",
    "movie[movie.Price > 3]\n"
   ]
  },
  {
   "cell_type": "code",
   "execution_count": 6,
   "metadata": {},
   "outputs": [
    {
     "data": {
      "text/plain": "  MovieID           MovieName  Price   Genre\n0      F1   Jurassic Park III   2.99  Action\n2      F3           Senseless   5.99  Comedy\n3      F4        Dragon Heart   6.00   Drama\n5      F6  America Sweetheart   0.59  Comedy",
      "text/html": "<div>\n<style scoped>\n    .dataframe tbody tr th:only-of-type {\n        vertical-align: middle;\n    }\n\n    .dataframe tbody tr th {\n        vertical-align: top;\n    }\n\n    .dataframe thead th {\n        text-align: right;\n    }\n</style>\n<table border=\"1\" class=\"dataframe\">\n  <thead>\n    <tr style=\"text-align: right;\">\n      <th></th>\n      <th>MovieID</th>\n      <th>MovieName</th>\n      <th>Price</th>\n      <th>Genre</th>\n    </tr>\n  </thead>\n  <tbody>\n    <tr>\n      <th>0</th>\n      <td>F1</td>\n      <td>Jurassic Park III</td>\n      <td>2.99</td>\n      <td>Action</td>\n    </tr>\n    <tr>\n      <th>2</th>\n      <td>F3</td>\n      <td>Senseless</td>\n      <td>5.99</td>\n      <td>Comedy</td>\n    </tr>\n    <tr>\n      <th>3</th>\n      <td>F4</td>\n      <td>Dragon Heart</td>\n      <td>6.00</td>\n      <td>Drama</td>\n    </tr>\n    <tr>\n      <th>5</th>\n      <td>F6</td>\n      <td>America Sweetheart</td>\n      <td>0.59</td>\n      <td>Comedy</td>\n    </tr>\n  </tbody>\n</table>\n</div>"
     },
     "execution_count": 6,
     "metadata": {},
     "output_type": "execute_result"
    }
   ],
   "source": [
    "#Excercise 1: Select all movies with a price higher than $5 OR lower than $3\n",
    "movie[(movie.Price < 3) | (movie.Price > 5)]"
   ]
  },
  {
   "cell_type": "code",
   "execution_count": 7,
   "metadata": {},
   "outputs": [
    {
     "data": {
      "text/plain": "  MovieID          MovieName  Price   Genre\n0      F1  Jurassic Park III   2.99  Action\n4      F5                  7   5.00  Action",
      "text/html": "<div>\n<style scoped>\n    .dataframe tbody tr th:only-of-type {\n        vertical-align: middle;\n    }\n\n    .dataframe tbody tr th {\n        vertical-align: top;\n    }\n\n    .dataframe thead th {\n        text-align: right;\n    }\n</style>\n<table border=\"1\" class=\"dataframe\">\n  <thead>\n    <tr style=\"text-align: right;\">\n      <th></th>\n      <th>MovieID</th>\n      <th>MovieName</th>\n      <th>Price</th>\n      <th>Genre</th>\n    </tr>\n  </thead>\n  <tbody>\n    <tr>\n      <th>0</th>\n      <td>F1</td>\n      <td>Jurassic Park III</td>\n      <td>2.99</td>\n      <td>Action</td>\n    </tr>\n    <tr>\n      <th>4</th>\n      <td>F5</td>\n      <td>7</td>\n      <td>5.00</td>\n      <td>Action</td>\n    </tr>\n  </tbody>\n</table>\n</div>"
     },
     "execution_count": 7,
     "metadata": {},
     "output_type": "execute_result"
    }
   ],
   "source": [
    "#Excercise 2: Select all action movies\n",
    "movie[(movie.Genre == \"Action\")]"
   ]
  },
  {
   "cell_type": "code",
   "execution_count": 8,
   "metadata": {},
   "outputs": [],
   "source": [
    "#Selecting rows based on multiple column conditions using '&' operator.\n",
    "# When we have multiple conditions, we use the '&' logic operator to help:\n",
    "# Select all action movies cheaper than $4\n",
    "# 1. Action movies:\n",
    "a = movie.Genre == 'Action'"
   ]
  },
  {
   "cell_type": "code",
   "execution_count": 9,
   "metadata": {},
   "outputs": [],
   "source": [
    "#2. Greater than $4:\n",
    "b = movie.Price > 4"
   ]
  },
  {
   "cell_type": "code",
   "execution_count": 10,
   "metadata": {},
   "outputs": [
    {
     "data": {
      "text/plain": "0    False\n1    False\n2    False\n3    False\n4     True\n5    False\ndtype: bool"
     },
     "execution_count": 10,
     "metadata": {},
     "output_type": "execute_result"
    }
   ],
   "source": [
    "#3. now we need to merget the two with the \"&\" logic\n",
    "a & b"
   ]
  },
  {
   "cell_type": "code",
   "execution_count": 11,
   "metadata": {},
   "outputs": [
    {
     "data": {
      "text/plain": "  MovieID MovieName  Price   Genre\n4      F5         7    5.0  Action",
      "text/html": "<div>\n<style scoped>\n    .dataframe tbody tr th:only-of-type {\n        vertical-align: middle;\n    }\n\n    .dataframe tbody tr th {\n        vertical-align: top;\n    }\n\n    .dataframe thead th {\n        text-align: right;\n    }\n</style>\n<table border=\"1\" class=\"dataframe\">\n  <thead>\n    <tr style=\"text-align: right;\">\n      <th></th>\n      <th>MovieID</th>\n      <th>MovieName</th>\n      <th>Price</th>\n      <th>Genre</th>\n    </tr>\n  </thead>\n  <tbody>\n    <tr>\n      <th>4</th>\n      <td>F5</td>\n      <td>7</td>\n      <td>5.0</td>\n      <td>Action</td>\n    </tr>\n  </tbody>\n</table>\n</div>"
     },
     "execution_count": 11,
     "metadata": {},
     "output_type": "execute_result"
    }
   ],
   "source": [
    "#4. Finally, return the row:\n",
    "movie[a&b]"
   ]
  },
  {
   "cell_type": "code",
   "execution_count": 12,
   "metadata": {},
   "outputs": [
    {
     "data": {
      "text/plain": "  MovieID MovieName  Price   Genre\n4      F5         7    5.0  Action",
      "text/html": "<div>\n<style scoped>\n    .dataframe tbody tr th:only-of-type {\n        vertical-align: middle;\n    }\n\n    .dataframe tbody tr th {\n        vertical-align: top;\n    }\n\n    .dataframe thead th {\n        text-align: right;\n    }\n</style>\n<table border=\"1\" class=\"dataframe\">\n  <thead>\n    <tr style=\"text-align: right;\">\n      <th></th>\n      <th>MovieID</th>\n      <th>MovieName</th>\n      <th>Price</th>\n      <th>Genre</th>\n    </tr>\n  </thead>\n  <tbody>\n    <tr>\n      <th>4</th>\n      <td>F5</td>\n      <td>7</td>\n      <td>5.0</td>\n      <td>Action</td>\n    </tr>\n  </tbody>\n</table>\n</div>"
     },
     "execution_count": 12,
     "metadata": {},
     "output_type": "execute_result"
    }
   ],
   "source": [
    "# Or, we can just do:\n",
    "movie[(movie.Genre == 'Action') & (movie.Price > 4)]"
   ]
  },
  {
   "cell_type": "markdown",
   "metadata": {},
   "source": [
    "## <font color=\"blue\"> 3.  Projection </font>"
   ]
  },
  {
   "cell_type": "code",
   "execution_count": 13,
   "metadata": {},
   "outputs": [
    {
     "data": {
      "text/plain": "0    2.99\n1    3.55\n2    5.99\n3    6.00\n4    5.00\n5    0.59\nName: Price, dtype: float64"
     },
     "execution_count": 13,
     "metadata": {},
     "output_type": "execute_result"
    }
   ],
   "source": [
    "# The \"Projection\" operator in relational algebra is simply choosing a column in Pandas\n",
    "# Select the Price column:\n",
    "movie.Price"
   ]
  },
  {
   "cell_type": "code",
   "execution_count": 14,
   "metadata": {},
   "outputs": [
    {
     "data": {
      "text/plain": "  MovieID           MovieName  Price   Genre\n0      F1   Jurassic Park III   2.99  Action\n1      F2          The Others   3.55  Horror\n2      F3           Senseless   5.99  Comedy\n3      F4        Dragon Heart   6.00   Drama\n4      F5                   7   5.99  Action\n5      F6  America Sweetheart   0.59  Comedy",
      "text/html": "<div>\n<style scoped>\n    .dataframe tbody tr th:only-of-type {\n        vertical-align: middle;\n    }\n\n    .dataframe tbody tr th {\n        vertical-align: top;\n    }\n\n    .dataframe thead th {\n        text-align: right;\n    }\n</style>\n<table border=\"1\" class=\"dataframe\">\n  <thead>\n    <tr style=\"text-align: right;\">\n      <th></th>\n      <th>MovieID</th>\n      <th>MovieName</th>\n      <th>Price</th>\n      <th>Genre</th>\n    </tr>\n  </thead>\n  <tbody>\n    <tr>\n      <th>0</th>\n      <td>F1</td>\n      <td>Jurassic Park III</td>\n      <td>2.99</td>\n      <td>Action</td>\n    </tr>\n    <tr>\n      <th>1</th>\n      <td>F2</td>\n      <td>The Others</td>\n      <td>3.55</td>\n      <td>Horror</td>\n    </tr>\n    <tr>\n      <th>2</th>\n      <td>F3</td>\n      <td>Senseless</td>\n      <td>5.99</td>\n      <td>Comedy</td>\n    </tr>\n    <tr>\n      <th>3</th>\n      <td>F4</td>\n      <td>Dragon Heart</td>\n      <td>6.00</td>\n      <td>Drama</td>\n    </tr>\n    <tr>\n      <th>4</th>\n      <td>F5</td>\n      <td>7</td>\n      <td>5.99</td>\n      <td>Action</td>\n    </tr>\n    <tr>\n      <th>5</th>\n      <td>F6</td>\n      <td>America Sweetheart</td>\n      <td>0.59</td>\n      <td>Comedy</td>\n    </tr>\n  </tbody>\n</table>\n</div>"
     },
     "execution_count": 14,
     "metadata": {},
     "output_type": "execute_result"
    }
   ],
   "source": [
    "# What if I just want to select UNIQUE values? First, let me introduce a redundant value:\n",
    "movie.iloc[4,2] = 5.99\n",
    "movie"
   ]
  },
  {
   "cell_type": "code",
   "execution_count": 15,
   "metadata": {},
   "outputs": [
    {
     "data": {
      "text/plain": "array([2.99, 3.55, 5.99, 6.  , 0.59])"
     },
     "execution_count": 15,
     "metadata": {},
     "output_type": "execute_result"
    }
   ],
   "source": [
    "# Now we can use the \"unique\" method to choose unique values\n",
    "movie.Price.unique()"
   ]
  },
  {
   "cell_type": "code",
   "execution_count": 16,
   "metadata": {},
   "outputs": [
    {
     "data": {
      "text/plain": "   Price   Genre\n0   2.99  Action\n1   3.55  Horror\n2   5.99  Comedy\n3   6.00   Drama\n4   5.99  Action\n5   0.59  Comedy",
      "text/html": "<div>\n<style scoped>\n    .dataframe tbody tr th:only-of-type {\n        vertical-align: middle;\n    }\n\n    .dataframe tbody tr th {\n        vertical-align: top;\n    }\n\n    .dataframe thead th {\n        text-align: right;\n    }\n</style>\n<table border=\"1\" class=\"dataframe\">\n  <thead>\n    <tr style=\"text-align: right;\">\n      <th></th>\n      <th>Price</th>\n      <th>Genre</th>\n    </tr>\n  </thead>\n  <tbody>\n    <tr>\n      <th>0</th>\n      <td>2.99</td>\n      <td>Action</td>\n    </tr>\n    <tr>\n      <th>1</th>\n      <td>3.55</td>\n      <td>Horror</td>\n    </tr>\n    <tr>\n      <th>2</th>\n      <td>5.99</td>\n      <td>Comedy</td>\n    </tr>\n    <tr>\n      <th>3</th>\n      <td>6.00</td>\n      <td>Drama</td>\n    </tr>\n    <tr>\n      <th>4</th>\n      <td>5.99</td>\n      <td>Action</td>\n    </tr>\n    <tr>\n      <th>5</th>\n      <td>0.59</td>\n      <td>Comedy</td>\n    </tr>\n  </tbody>\n</table>\n</div>"
     },
     "execution_count": 16,
     "metadata": {},
     "output_type": "execute_result"
    }
   ],
   "source": [
    "# Select \"Price\" and \"Genre\":\n",
    "movie[['Price','Genre']]"
   ]
  },
  {
   "cell_type": "code",
   "execution_count": null,
   "metadata": {},
   "outputs": [],
   "source": [
    "# Of course, you can still use all the loc and iloc tricks we talked about before..."
   ]
  },
  {
   "cell_type": "markdown",
   "metadata": {},
   "source": [
    "## <font color=\"blue\"> 4.  Group By </font>"
   ]
  },
  {
   "cell_type": "code",
   "execution_count": 17,
   "metadata": {},
   "outputs": [
    {
     "data": {
      "text/plain": "<pandas.core.groupby.generic.DataFrameGroupBy object at 0x1616b8c70>"
     },
     "execution_count": 17,
     "metadata": {},
     "output_type": "execute_result"
    }
   ],
   "source": [
    "# The groupby method allows you to group rows of data together \n",
    "movie.groupby('Genre')"
   ]
  },
  {
   "cell_type": "code",
   "execution_count": 18,
   "metadata": {},
   "outputs": [
    {
     "name": "stdout",
     "output_type": "stream",
     "text": [
      "<pandas.core.groupby.generic.DataFrameGroupBy object at 0x16149c7f0>\n"
     ]
    }
   ],
   "source": [
    "print(movie.groupby('Genre'))"
   ]
  },
  {
   "cell_type": "code",
   "execution_count": 19,
   "metadata": {},
   "outputs": [
    {
     "name": "stdout",
     "output_type": "stream",
     "text": [
      "       MovieID  Price\n",
      "Genre                \n",
      "Action      F1   2.99\n",
      "Comedy      F3   0.59\n",
      "Drama       F4   6.00\n",
      "Horror      F2   3.55\n",
      "       MovieID  Price\n",
      "Genre                \n",
      "Action      F5   5.99\n",
      "Comedy      F6   5.99\n",
      "Drama       F4   6.00\n",
      "Horror      F2   3.55\n",
      "        MovieID  MovieName  Price\n",
      "Genre                            \n",
      "Action        2          2      2\n",
      "Comedy        2          2      2\n",
      "Drama         1          1      1\n",
      "Horror        1          1      1\n",
      "        Price\n",
      "Genre        \n",
      "Action   4.49\n",
      "Comedy   3.29\n",
      "Drama    6.00\n",
      "Horror   3.55\n",
      "           Price\n",
      "Genre           \n",
      "Action  2.121320\n",
      "Comedy  3.818377\n",
      "Drama        NaN\n",
      "Horror       NaN\n"
     ]
    },
    {
     "name": "stderr",
     "output_type": "stream",
     "text": [
      "/var/folders/ps/2n8y1h0j5fq4l4ncgnbm4hw40000gn/T/ipykernel_50162/3892194676.py:3: FutureWarning: Dropping invalid columns in DataFrameGroupBy.min is deprecated. In a future version, a TypeError will be raised. Before calling .min, select only columns which should be valid for the function.\n",
      "  print(movie.groupby('Genre').min())\n",
      "/var/folders/ps/2n8y1h0j5fq4l4ncgnbm4hw40000gn/T/ipykernel_50162/3892194676.py:4: FutureWarning: Dropping invalid columns in DataFrameGroupBy.max is deprecated. In a future version, a TypeError will be raised. Before calling .max, select only columns which should be valid for the function.\n",
      "  print(movie.groupby('Genre').max())\n"
     ]
    }
   ],
   "source": [
    "# Notice that you CANNOT print the actual group by object -- it provides you with a ground for aggregation functions\n",
    "# For example:\n",
    "print(movie.groupby('Genre').min())\n",
    "print(movie.groupby('Genre').max())\n",
    "print(movie.groupby('Genre').count())\n",
    "print(movie.groupby('Genre').mean())\n",
    "print(movie.groupby('Genre').std())"
   ]
  },
  {
   "cell_type": "code",
   "execution_count": 20,
   "metadata": {},
   "outputs": [
    {
     "name": "stdout",
     "output_type": "stream",
     "text": [
      "       Price                                              \n",
      "       count  mean       std   min   25%   50%   75%   max\n",
      "Genre                                                     \n",
      "Action   2.0  4.49  2.121320  2.99  3.74  4.49  5.24  5.99\n",
      "Comedy   2.0  3.29  3.818377  0.59  1.94  3.29  4.64  5.99\n",
      "Drama    1.0  6.00       NaN  6.00  6.00  6.00  6.00  6.00\n",
      "Horror   1.0  3.55       NaN  3.55  3.55  3.55  3.55  3.55\n"
     ]
    }
   ],
   "source": [
    "# Or, the do-it-all summary stats operator:\n",
    "print(movie.groupby('Genre').describe())"
   ]
  },
  {
   "cell_type": "code",
   "execution_count": null,
   "outputs": [],
   "source": [],
   "metadata": {
    "collapsed": false,
    "pycharm": {
     "name": "#%%\n"
    }
   }
  }
 ],
 "metadata": {
  "kernelspec": {
   "display_name": "Python 3",
   "language": "python",
   "name": "python3"
  },
  "language_info": {
   "codemirror_mode": {
    "name": "ipython",
    "version": 3
   },
   "file_extension": ".py",
   "mimetype": "text/x-python",
   "name": "python",
   "nbconvert_exporter": "python",
   "pygments_lexer": "ipython3",
   "version": "3.7.4"
  }
 },
 "nbformat": 4,
 "nbformat_minor": 2
}