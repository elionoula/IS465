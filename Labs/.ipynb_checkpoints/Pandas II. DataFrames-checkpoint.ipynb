{
 "cells": [
  {
   "cell_type": "markdown",
   "metadata": {},
   "source": [
    "# In this session, we learn the one data structure we will be working with the most: dataFrame"
   ]
  },
  {
   "cell_type": "markdown",
   "metadata": {},
   "source": [
    "## <font color=\"red\"> DataFrame </font>"
   ]
  },
  {
   "cell_type": "markdown",
   "metadata": {},
   "source": [
    "DataFrame is Pandas' way to handle tabular data. \n",
    "You can think of it as a two-way array. In fact, each column of the \"table\" is a series"
   ]
  },
  {
   "cell_type": "markdown",
   "metadata": {},
   "source": [
    "## <font color=\"blue\"> 1. Define a DataFrame </font>"
   ]
  },
  {
   "cell_type": "code",
   "execution_count": null,
   "metadata": {},
   "outputs": [],
   "source": [
    "#In this example, we first create a 4 by 3 array, then use this array to create a df object.\n",
    "\n",
    "import pandas as pd\n",
    "import numpy as np\n",
    "a = np.random.rand(4,3)\n",
    "print(type(a))\n",
    "print(a)\n",
    "df = pd.DataFrame(a)\n",
    "print(df)"
   ]
  },
  {
   "cell_type": "code",
   "execution_count": null,
   "metadata": {},
   "outputs": [],
   "source": [
    "# We could add labels to each column -- this would be your \"column headers\"\n",
    "df.columns = ['A','B','C']\n",
    "df"
   ]
  },
  {
   "cell_type": "code",
   "execution_count": null,
   "metadata": {},
   "outputs": [],
   "source": [
    "# What about the rows? the default would always start from 0. To change the row index, use the index() function --\n",
    "# Remember, a df is actually a bunch of series put together. Each column is a series, therefore, all series command \n",
    "# works for all columns\n",
    "df.index =[1,2,3,4]\n",
    "df"
   ]
  },
  {
   "cell_type": "code",
   "execution_count": null,
   "metadata": {},
   "outputs": [],
   "source": [
    "# We can also convenient create time series, thanks to the date_range() function\n",
    "df.index = pd.date_range('20200101',periods = 4)\n",
    "df"
   ]
  },
  {
   "cell_type": "code",
   "execution_count": null,
   "metadata": {},
   "outputs": [],
   "source": [
    "# To GET the column name:\n",
    "print(df.columns)\n",
    "# To GET the row index:\n",
    "print(df.index)\n",
    "# To get the values of the whole table:\n",
    "print(df.values)"
   ]
  },
  {
   "cell_type": "code",
   "execution_count": null,
   "metadata": {},
   "outputs": [],
   "source": [
    "# Most of the time, we use excel or csv files as input and use dataFrame to hold a table. Please refer to the IO tutorial file "
   ]
  },
  {
   "cell_type": "markdown",
   "metadata": {},
   "source": [
    "## <font color=\"blue\"> 2. Reading Operations </font>"
   ]
  },
  {
   "cell_type": "markdown",
   "metadata": {},
   "source": [
    "Just like an NumPy array, we can do slicing in DataFrame as well\n"
   ]
  },
  {
   "cell_type": "code",
   "execution_count": null,
   "metadata": {},
   "outputs": [],
   "source": [
    "# Selecting the first five rows\n",
    "df.head()"
   ]
  },
  {
   "cell_type": "code",
   "execution_count": null,
   "metadata": {},
   "outputs": [],
   "source": [
    "# You can also decide how many rows you want\n",
    "df = pd.DataFrame(np.random.rand(20,20))\n",
    "print(df)\n",
    "df.head(6)"
   ]
  },
  {
   "cell_type": "code",
   "execution_count": null,
   "metadata": {},
   "outputs": [],
   "source": [
    "# You can also view the LAST five rows of the table:\n",
    "df.tail()"
   ]
  },
  {
   "cell_type": "code",
   "execution_count": null,
   "metadata": {},
   "outputs": [],
   "source": [
    "# and you can also customize\n",
    "df.tail(7)"
   ]
  },
  {
   "cell_type": "code",
   "execution_count": null,
   "metadata": {},
   "outputs": [],
   "source": [
    "# You can select a specific column\n",
    "df.columns = np.arange(1,21)\n",
    "print(df)\n",
    "print(df[4])"
   ]
  },
  {
   "cell_type": "code",
   "execution_count": null,
   "metadata": {},
   "outputs": [],
   "source": [
    "# Remember that each COLUMN is a series, so you are actually returning a series\n",
    "a = df[6]\n",
    "type(a)"
   ]
  },
  {
   "cell_type": "code",
   "execution_count": null,
   "metadata": {},
   "outputs": [],
   "source": [
    "# However, if you retrieve multiple columns...\n",
    "b = df[[6,9]]\n",
    "print(b)\n",
    "print(type(b))"
   ]
  },
  {
   "cell_type": "code",
   "execution_count": null,
   "metadata": {},
   "outputs": [],
   "source": [
    "# We have covered slicing by columns. Now we slice by rows\n",
    "print(df[2:4])"
   ]
  },
  {
   "cell_type": "code",
   "execution_count": null,
   "metadata": {},
   "outputs": [],
   "source": [
    "# Notice how row and columns work differently -- this would NOT return the fourth row:\n",
    "print(df[4])\n",
    "# How do you retrieve row 4 then? by using iloc()\n",
    "print(df.iloc[4])"
   ]
  },
  {
   "cell_type": "code",
   "execution_count": null,
   "metadata": {},
   "outputs": [],
   "source": [
    "# is it a little hard to see using the above example? Let's create another df and refresh our memory of the array object\n",
    "import pandas as pd\n",
    "import numpy as np\n",
    "a = np.array(np.random.randint(1,100,30))\n",
    "b = a.reshape(5,-1)\n",
    "print(b)"
   ]
  },
  {
   "cell_type": "code",
   "execution_count": null,
   "metadata": {},
   "outputs": [],
   "source": [
    "df2 = pd.DataFrame(b)\n",
    "df2"
   ]
  },
  {
   "cell_type": "code",
   "execution_count": null,
   "metadata": {},
   "outputs": [],
   "source": [
    "# Now let's compare how you retrive a row vs. a column\n",
    "df2[3]"
   ]
  },
  {
   "cell_type": "code",
   "execution_count": null,
   "metadata": {},
   "outputs": [],
   "source": [
    "df2[3:5]"
   ]
  },
  {
   "cell_type": "code",
   "execution_count": null,
   "metadata": {},
   "outputs": [],
   "source": [
    "df2[[3,5]]"
   ]
  },
  {
   "cell_type": "code",
   "execution_count": null,
   "metadata": {},
   "outputs": [],
   "source": [
    "df2.iloc[2]"
   ]
  },
  {
   "cell_type": "code",
   "execution_count": null,
   "metadata": {},
   "outputs": [],
   "source": [
    "df2.iloc[2:4]"
   ]
  },
  {
   "cell_type": "code",
   "execution_count": null,
   "metadata": {},
   "outputs": [],
   "source": [
    "df2.iloc[[2,4]]"
   ]
  },
  {
   "cell_type": "code",
   "execution_count": null,
   "metadata": {},
   "outputs": [],
   "source": [
    "df2.iloc[2,4]"
   ]
  },
  {
   "cell_type": "code",
   "execution_count": null,
   "metadata": {},
   "outputs": [],
   "source": [
    "# Confusing? When iloc takes in ONE item - be it a list or a number, it inteprets it as the row index\n",
    "# However, if it takes in TWO parameters separated by \",\" it will take the first one as the row index and the second one as the \n",
    "# column index\n",
    "df2.iloc[2:4,3:5]"
   ]
  },
  {
   "cell_type": "code",
   "execution_count": null,
   "metadata": {},
   "outputs": [],
   "source": [
    "# To Summarize:\n",
    "# To retrive whole columns, you just need to use the command df[column indexes]\n",
    "# Try retrieve column 2 and 5 from df2:\n",
    "\n"
   ]
  },
  {
   "cell_type": "code",
   "execution_count": null,
   "metadata": {},
   "outputs": [],
   "source": [
    "# To retrieve rows, you need the iloc function: df.iloc[row numbers]\n",
    "# Try retrieve row 2 and row 4 from df2\n"
   ]
  },
  {
   "cell_type": "code",
   "execution_count": null,
   "metadata": {},
   "outputs": [],
   "source": [
    "# To slice, you use iloc() with TWO parameters\n",
    "# Try retrieve row 1 and 3 at column 2 and 4\n"
   ]
  },
  {
   "cell_type": "markdown",
   "metadata": {},
   "source": [
    "------------------------------------------------------------------------------------------------------------------"
   ]
  },
  {
   "cell_type": "code",
   "execution_count": null,
   "metadata": {},
   "outputs": [],
   "source": [
    "#Let's now work with real data set.\n",
    "GBI = pd.read_excel('GBI.xlsx',sheet_name='Sales')\n",
    "print(GBI)"
   ]
  },
  {
   "cell_type": "code",
   "execution_count": null,
   "metadata": {},
   "outputs": [],
   "source": [
    "#How do we use column NAME instead of POSITION to retrieve a column?\n",
    "#Let's retrieve the 'CITY' column:\n",
    "GBI['City']"
   ]
  },
  {
   "cell_type": "code",
   "execution_count": null,
   "metadata": {},
   "outputs": [],
   "source": [
    "#It is the same as loc() function - NOTE that the syntax for loc[], just like iloc[], is row,column\n",
    "GBI.loc[:,'City']"
   ]
  },
  {
   "cell_type": "code",
   "execution_count": null,
   "metadata": {},
   "outputs": [],
   "source": [
    "#... or simply:\n",
    "GBI.City"
   ]
  },
  {
   "cell_type": "code",
   "execution_count": null,
   "metadata": {},
   "outputs": [],
   "source": [
    "#You can also select unique values of a column\n",
    "GBI.City.unique()"
   ]
  },
  {
   "cell_type": "code",
   "execution_count": null,
   "metadata": {},
   "outputs": [],
   "source": [
    "# Let's try to retrieve the first five rows of the city column\n",
    "print(GBI.loc[0:4,'City'])"
   ]
  },
  {
   "cell_type": "code",
   "execution_count": null,
   "metadata": {},
   "outputs": [],
   "source": [
    "#Exercise: print the City name for the 100th row in GBI; \n"
   ]
  },
  {
   "cell_type": "code",
   "execution_count": null,
   "metadata": {},
   "outputs": [],
   "source": [
    "# Selecting based on value: Just like list, you can use logic operators to filter out rows you do not want\n",
    "print(GBI[GBI.Revenue>6000])\n"
   ]
  },
  {
   "cell_type": "markdown",
   "metadata": {},
   "source": [
    "## <font color=\"blue\"> 3. Writing Operations </font>"
   ]
  },
  {
   "cell_type": "code",
   "execution_count": null,
   "metadata": {},
   "outputs": [],
   "source": [
    "# Sorting can be done by labels:\n",
    "print(GBI.sort_index(axis=0, ascending = False))\n",
    "print(GBI.sort_index(axis=1, ascending = False))\n",
    "# axis 0 means sorting by row, axis 1 means sorting by column LABLES"
   ]
  }
 ],
 "metadata": {
  "kernelspec": {
   "display_name": "Python 3 (ipykernel)",
   "language": "python",
   "name": "python3"
  },
  "language_info": {
   "codemirror_mode": {
    "name": "ipython",
    "version": 3
   },
   "file_extension": ".py",
   "mimetype": "text/x-python",
   "name": "python",
   "nbconvert_exporter": "python",
   "pygments_lexer": "ipython3",
   "version": "3.8.2"
  }
 },
 "nbformat": 4,
 "nbformat_minor": 2
}
