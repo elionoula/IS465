{
 "cells": [
  {
   "cell_type": "markdown",
   "metadata": {},
   "source": [
    "# In this session, we review the three basic Python Control Structures and Function"
   ]
  },
  {
   "cell_type": "markdown",
   "metadata": {},
   "source": [
    "## <font color=\"red\"> SEQUENCE </font>"
   ]
  },
  {
   "cell_type": "code",
   "execution_count": 1,
   "metadata": {},
   "outputs": [],
   "source": [
    "# The sequence structure is basically a line-by-line execution of your code. The simplest of all three, it is \n",
    "# also the main body of many programs\n",
    "\n",
    "# Let's do a simple example: take in three numbers, add them up, and print their average\n",
    "\n",
    "#Step 1: Prompt the user to enter a number \n",
    "#[HINT: you have to first print the prompt. Then, capture input using the \"input()\" command]\n",
    "#Your Code Here:\n",
    "# First line --- print a prompt\n",
    "# Second line --- assign the input value to a variable\n",
    "# Third line --- print the variable\n",
    "\n",
    "\n",
    "\n",
    "\n"
   ]
  },
  {
   "cell_type": "code",
   "execution_count": 8,
   "metadata": {},
   "outputs": [
    {
     "name": "stdout",
     "output_type": "stream",
     "text": [
      "Please enter a number:\n",
      "4\n",
      "4\n"
     ]
    }
   ],
   "source": [
    "print('Please enter a number:')\n",
    "x = input()\n",
    "print(x)"
   ]
  },
  {
   "cell_type": "code",
   "execution_count": 9,
   "metadata": {},
   "outputs": [
    {
     "name": "stdout",
     "output_type": "stream",
     "text": [
      "Please enter a number:6\n",
      "6\n"
     ]
    }
   ],
   "source": [
    "# easy, right? However, we could make it even easier:\n",
    "x = input('Please enter a number:')\n",
    "print(x)"
   ]
  },
  {
   "cell_type": "code",
   "execution_count": null,
   "metadata": {},
   "outputs": [],
   "source": [
    "#Step 2: Do this two more times -- easy copy and paste... Just don't forget to use variables to capture the values\n",
    "#Your Code Here:\n",
    "x = input('First Name:')\n",
    "print(x)\n"
   ]
  },
  {
   "cell_type": "code",
   "execution_count": 5,
   "metadata": {},
   "outputs": [
    {
     "name": "stdout",
     "output_type": "stream",
     "text": [
      "\n",
      "\n",
      "\n"
     ]
    }
   ],
   "source": [
    "x = input('Please enter a number:')\n",
    "print(x)\n",
    "y = input('Please enter a number:')\n",
    "print(y)\n",
    "z = input('Please enter a number:')\n",
    "print(z)"
   ]
  },
  {
   "cell_type": "code",
   "execution_count": 6,
   "metadata": {},
   "outputs": [
    {
     "name": "stdout",
     "output_type": "stream",
     "text": [
      "\n",
      "\n",
      "\n",
      "\n"
     ]
    }
   ],
   "source": [
    "#Step 3: Now is time to add all of them up and compute! Give it a try!\n",
    "x = input('Please enter a number:')\n",
    "print(x)\n",
    "y = input('Please enter a number:')\n",
    "print(y)\n",
    "z = input('Please enter a number:')\n",
    "print(z)\n",
    "print(x+y+z)\n",
    "\n",
    "#....oops....what's wrong?"
   ]
  },
  {
   "cell_type": "code",
   "execution_count": 7,
   "metadata": {},
   "outputs": [
    {
     "name": "stdout",
     "output_type": "stream",
     "text": [
      "\n",
      "\n",
      "\n"
     ]
    },
    {
     "ename": "TypeError",
     "evalue": "unsupported operand type(s) for /: 'str' and 'int'",
     "output_type": "error",
     "traceback": [
      "\u001b[0;31m---------------------------------------------------------------------------\u001b[0m",
      "\u001b[0;31mTypeError\u001b[0m                                 Traceback (most recent call last)",
      "\u001b[0;32m<ipython-input-7-9e34ff91c20d>\u001b[0m in \u001b[0;36m<module>\u001b[0;34m\u001b[0m\n\u001b[1;32m      6\u001b[0m \u001b[0mz\u001b[0m \u001b[0;34m=\u001b[0m \u001b[0minput\u001b[0m\u001b[0;34m(\u001b[0m\u001b[0;34m'Please enter a number:'\u001b[0m\u001b[0;34m)\u001b[0m\u001b[0;34m\u001b[0m\u001b[0;34m\u001b[0m\u001b[0m\n\u001b[1;32m      7\u001b[0m \u001b[0mprint\u001b[0m\u001b[0;34m(\u001b[0m\u001b[0mz\u001b[0m\u001b[0;34m)\u001b[0m\u001b[0;34m\u001b[0m\u001b[0;34m\u001b[0m\u001b[0m\n\u001b[0;32m----> 8\u001b[0;31m \u001b[0mprint\u001b[0m\u001b[0;34m(\u001b[0m\u001b[0;34m(\u001b[0m\u001b[0mx\u001b[0m\u001b[0;34m+\u001b[0m\u001b[0my\u001b[0m\u001b[0;34m+\u001b[0m\u001b[0mz\u001b[0m\u001b[0;34m)\u001b[0m\u001b[0;34m/\u001b[0m\u001b[0;36m3\u001b[0m\u001b[0;34m)\u001b[0m\u001b[0;34m\u001b[0m\u001b[0;34m\u001b[0m\u001b[0m\n\u001b[0m\u001b[1;32m      9\u001b[0m \u001b[0;34m\u001b[0m\u001b[0m\n\u001b[1;32m     10\u001b[0m \u001b[0;31m#....oops....what's wrong?\u001b[0m\u001b[0;34m\u001b[0m\u001b[0;34m\u001b[0m\u001b[0;34m\u001b[0m\u001b[0m\n",
      "\u001b[0;31mTypeError\u001b[0m: unsupported operand type(s) for /: 'str' and 'int'"
     ]
    }
   ],
   "source": [
    "# Let's try this instead...\n",
    "x = input('Please enter a number:')\n",
    "print(x)\n",
    "y = input('Please enter a number:')\n",
    "print(y)\n",
    "z = input('Please enter a number:')\n",
    "print(z)\n",
    "print((x+y+z)/3)\n",
    "\n",
    "#....oops....what's wrong?"
   ]
  },
  {
   "cell_type": "code",
   "execution_count": null,
   "metadata": {},
   "outputs": [],
   "source": [
    "# it is important to remember that in Python 3, input() automatically defines whatever it captures to be string\n",
    "# to have number, we have to turn the input into number type, like this:\n",
    "x = input('Please enter a number:')\n",
    "print(x)\n",
    "y = input('Please enter a number:')\n",
    "print(y)\n",
    "z = input('Please enter a number:')\n",
    "print(z)\n",
    "print((int(x)+int(y)+int(z))/3)\n",
    "\n"
   ]
  },
  {
   "cell_type": "markdown",
   "metadata": {},
   "source": [
    "## <font color=\"red\"> LOOP </font>"
   ]
  },
  {
   "cell_type": "markdown",
   "metadata": {},
   "source": [
    "### <font color=\"blue\"> FOR LOOP </font>"
   ]
  },
  {
   "cell_type": "code",
   "execution_count": null,
   "metadata": {},
   "outputs": [],
   "source": [
    "#We can use LOOP structure to handle repeated tasks. There are two types of loops\n",
    "#FOR loops are used for iterating over a sequence (that is either a list, a tuple, a dictionary, a set, or a string).\n",
    "#WARNING: This is less like the for loops we are used to in other programming languages. Try this:\n",
    "fruits = [\"apple\", \"banana\", \"cherry\"]\n",
    "for x in fruits:\n",
    "  print(x)\n",
    "\n"
   ]
  },
  {
   "cell_type": "code",
   "execution_count": null,
   "metadata": {},
   "outputs": [],
   "source": [
    "# Here, the for loop lets us iterate through all elements of a list (we will dedicate a lab to list next week)\n",
    "# Take a look at the following code and guess what will be printed:\n",
    "for i in (1,20):\n",
    "    print(i)\n",
    "\n",
    "\n"
   ]
  },
  {
   "cell_type": "code",
   "execution_count": null,
   "metadata": {},
   "outputs": [],
   "source": [
    "#Unlike some other languages, Python takes the (1,20) at literal value, as a list of two components, and iterates through it\n",
    "#What if I need to do a loop for, say, 20 times? We use the RANGE function\n",
    "for i in range(21):\n",
    "    print(i)\n",
    "\n"
   ]
  },
  {
   "cell_type": "code",
   "execution_count": null,
   "metadata": {},
   "outputs": [],
   "source": [
    "#The range() function defaults to 0 as a starting value, however it is possible to specify the starting value by adding \n",
    "#a parameter: range(2, 6), which means values from 2 to 6 (but not including 6). Give it a try:\n",
    "\n",
    "\n",
    "\n",
    "\n"
   ]
  },
  {
   "cell_type": "code",
   "execution_count": null,
   "metadata": {},
   "outputs": [],
   "source": [
    "#The range() function defaults to increment the sequence by 1, however it is possible to specify the increment value by \n",
    "# adding a third parameter: range(2, 30, 3). Give it a try:\n",
    "\n",
    "\n",
    "\n"
   ]
  },
  {
   "cell_type": "code",
   "execution_count": null,
   "metadata": {},
   "outputs": [],
   "source": [
    "#Remember the following code? Can we use loop function to make it easier? Give it a try\n",
    "x = input('Please enter a number:')\n",
    "print(x)\n",
    "y = input('Please enter a number:')\n",
    "print(y)\n",
    "z = input('Please enter a number:')\n",
    "print(z)\n",
    "print((int(x)+int(y)+int(z))/3)"
   ]
  },
  {
   "cell_type": "code",
   "execution_count": null,
   "metadata": {},
   "outputs": [],
   "source": [
    "sum = 0\n",
    "for i in range(3):\n",
    "    x = input('Please enter a number:')\n",
    "    sum = sum + int(x)\n",
    "print (sum/3)\n"
   ]
  },
  {
   "cell_type": "markdown",
   "metadata": {},
   "source": [
    "### <font color=\"blue\"> WHILE LOOP </font>"
   ]
  },
  {
   "cell_type": "code",
   "execution_count": null,
   "metadata": {},
   "outputs": [],
   "source": [
    "#If we could control the condition to stop the repetition, our code is more effective -- enter the while loop\n",
    "i = 1\n",
    "while i < 5:\n",
    "    print(i)\n",
    "    i = i+1\n"
   ]
  },
  {
   "cell_type": "code",
   "execution_count": null,
   "metadata": {},
   "outputs": [],
   "source": [
    "#Let's make our printing program more flexible -- no longer would we only take three numbers. We will take as many numbers as \n",
    "# the user wants to enter, and stop taking more when the user enters '-1'. How do we do that?\n",
    " \n",
    "    \n",
    "    "
   ]
  },
  {
   "cell_type": "code",
   "execution_count": null,
   "metadata": {},
   "outputs": [],
   "source": [
    "sum = 0\n",
    "x = 'begin'\n",
    "while (x != '-1'):\n",
    "    x = input('Please enter a number:')\n",
    "    sum = sum + int(x)\n",
    "    print(sum)\n",
    "\n",
    "# Does this code work properly? Why or why not? What's the lesson learned here?"
   ]
  },
  {
   "cell_type": "code",
   "execution_count": null,
   "metadata": {},
   "outputs": [],
   "source": [
    "sum = 0\n",
    "x = 'begin'\n",
    "while (x != '-1'):\n",
    "    x = input('Please enter a number:')\n",
    "    if(x == '-1'):\n",
    "        break\n",
    "    sum = sum + int(x)\n",
    "print(sum)"
   ]
  },
  {
   "cell_type": "code",
   "execution_count": null,
   "metadata": {},
   "outputs": [],
   "source": [
    "#We are almost there! Just adding one more thing to calculate the average... can you do it?\n",
    "\n",
    "\n",
    "\n"
   ]
  },
  {
   "cell_type": "code",
   "execution_count": null,
   "metadata": {},
   "outputs": [],
   "source": [
    "sum = 0\n",
    "count = 0\n",
    "x = 'begin'\n",
    "while (x != '-1'):\n",
    "    x = input('Please enter a number:')\n",
    "    if(x == '-1'):\n",
    "        break\n",
    "    sum = sum + int(x)\n",
    "    count = count + 1\n",
    "print(sum / count)"
   ]
  },
  {
   "cell_type": "markdown",
   "metadata": {},
   "source": [
    "## <font color=\"red\"> CONDITIONALS </font>"
   ]
  },
  {
   "cell_type": "code",
   "execution_count": null,
   "metadata": {},
   "outputs": [],
   "source": [
    "#In the case above, we used an \"if\" statement\n",
    "#Such statement supports the third type of control: CONDITIONALS\n",
    "if 3/2 == 1.5: \n",
    "    print('correct')\n",
    "else:\n",
    "    print('wrong')"
   ]
  },
  {
   "cell_type": "code",
   "execution_count": null,
   "metadata": {},
   "outputs": [],
   "source": [
    "#What if there are more than two cases?\n",
    "x = input('Please enter a number between 1 and 3:')\n",
    "if x == '1':\n",
    "    print('First')\n",
    "elif x == '2':\n",
    "    print('Middle')\n",
    "else:\n",
    "    print('Last')"
   ]
  },
  {
   "cell_type": "markdown",
   "metadata": {},
   "source": [
    "## <font color=\"red\"> FUNCTION </font>"
   ]
  },
  {
   "cell_type": "code",
   "execution_count": null,
   "metadata": {},
   "outputs": [],
   "source": [
    "#to make a function, use the keyword DEF, followed by the name of your function, and the parameters it needs to take in\n",
    "def my_first_func(temp):\n",
    "    print('this function takes temperature in fahrenheit and return its celsius counterpart')\n",
    "    print('you entered:'+ temp)\n",
    "    print('it is equal to: ' + (temp-32)*5/9)\n",
    "    return()"
   ]
  },
  {
   "cell_type": "code",
   "execution_count": null,
   "metadata": {},
   "outputs": [],
   "source": [
    "# Why was there no output? \n",
    "# To use a function, we need to CALL it, try calling it now:\n",
    "my_first_func\n"
   ]
  },
  {
   "cell_type": "code",
   "execution_count": null,
   "metadata": {},
   "outputs": [],
   "source": [
    "#? What just happened? \n",
    "# Just typing the name of the function would return the description of the object instead of running it\n",
    "# Let's do it the right way\n",
    "my_first_func()"
   ]
  },
  {
   "cell_type": "code",
   "execution_count": null,
   "metadata": {},
   "outputs": [],
   "source": [
    "#Oops! NEVER forget your parameter!\n",
    "my_first_func(32)"
   ]
  },
  {
   "cell_type": "code",
   "execution_count": null,
   "metadata": {},
   "outputs": [],
   "source": [
    "# Can you diagnose what went wrong and correctify the code? FIX THE FOLLOWING CODE:\n",
    "\n",
    "def my_first_func(temp):\n",
    "    print('this function takes temperature in fahrenheit and return its celsius counterpart')\n",
    "    print('you entered:'+ temp)\n",
    "    print('it is equal to: ' + (temp-32)*5/9)\n",
    "    return()\n"
   ]
  },
  {
   "cell_type": "code",
   "execution_count": null,
   "metadata": {},
   "outputs": [],
   "source": [
    "# Just like int(), str() allows you to change between built-in data types\n",
    "\n",
    "def my_first_func(temp):\n",
    "    print('this function takes temperature in fahrenheit and return its celsius counterpart')\n",
    "    print('you entered:'+ str(temp))\n",
    "    print('it is equal to: ' + str((temp-32)*5/9))\n",
    "    return()\n",
    "\n",
    "my_first_func(32)"
   ]
  },
  {
   "cell_type": "code",
   "execution_count": null,
   "metadata": {},
   "outputs": [],
   "source": [
    "#Can a function carry NO parameter?\n",
    "\n",
    "def my_second_func():\n",
    "    print('Hello World!')\n",
    "    return()\n",
    "\n",
    "my_second_func()\n"
   ]
  },
  {
   "cell_type": "code",
   "execution_count": null,
   "metadata": {},
   "outputs": [],
   "source": [
    "#Can a parameter have a default value?\n",
    "\n",
    "def my_third_func(para = 'this is the default'):\n",
    "    print(para)\n",
    "    return()\n",
    "\n",
    "my_third_func()\n",
    "my_third_func('override')"
   ]
  },
  {
   "cell_type": "code",
   "execution_count": null,
   "metadata": {},
   "outputs": [],
   "source": [
    "#The REAL value of a function is that it could RETURN a value to be used for later computations\n",
    "#It is a good practice to assign the function output to a variable\n",
    "def my_fourth_func(temp):\n",
    "   return((temp-32)*5/9)\n",
    "celcuis = my_fourth_func(45)    \n",
    "celcuis"
   ]
  },
  {
   "cell_type": "code",
   "execution_count": null,
   "metadata": {},
   "outputs": [],
   "source": [
    "#PROPER DOCUMENTATION: It is a good idea to document what your function does so other people -- and yourself -- can\n",
    "# understand its use. Let's try one:\n",
    "def my_third_func(para = 'this is the default'):\n",
    "    '''\n",
    "    THIS FUNCTION ALLOWS YOU TO PRINT ANYTHING YOU WANT TO SAY\n",
    "    '''\n",
    "    print(para)\n",
    "    return()\n",
    "\n",
    "my_third_func()"
   ]
  },
  {
   "cell_type": "code",
   "execution_count": null,
   "metadata": {},
   "outputs": [],
   "source": [
    "#Don't see any display? because it is not supposed to be seen. To see the \"Docstring\", type your function name, and \n",
    "#press SHIFT-TAB, Jupiter will show the Docstring. Try it:\n",
    "my_third_func\n",
    "\n",
    "# We can also try that for any functions:\n",
    "list\n",
    "range\n",
    "#MAKE GOOD USE OF DOCSTRING IN YOUR TEAM PROJECT TO IMPROVE COLLABORATION!"
   ]
  },
  {
   "cell_type": "markdown",
   "metadata": {},
   "source": [
    "## <font color=\"red\"> LAMBDA FUNCTION </font>"
   ]
  },
  {
   "cell_type": "code",
   "execution_count": null,
   "metadata": {},
   "outputs": [],
   "source": [
    "# Sometimes, we use a lambda function to simply our code. Compare the following two code blocks:\n",
    "def times(x,y):\n",
    "    return x*y\n",
    "times(3,5)"
   ]
  },
  {
   "cell_type": "code",
   "execution_count": null,
   "metadata": {},
   "outputs": [],
   "source": [
    "x = lambda x,y:x*y\n",
    "x(3,5)\n"
   ]
  },
  {
   "cell_type": "code",
   "execution_count": null,
   "metadata": {},
   "outputs": [],
   "source": [
    "# We see that the lambda expression basically took away \"def\", your function name, and return, and \n",
    "# pack your whole function into one line. Why do we need it? You will understand as we get into more complicated data structures"
   ]
  }
 ],
 "metadata": {
  "kernelspec": {
   "display_name": "Python 3",
   "language": "python",
   "name": "python3"
  },
  "language_info": {
   "codemirror_mode": {
    "name": "ipython",
    "version": 3
   },
   "file_extension": ".py",
   "mimetype": "text/x-python",
   "name": "python",
   "nbconvert_exporter": "python",
   "pygments_lexer": "ipython3",
   "version": "3.8.2"
  }
 },
 "nbformat": 4,
 "nbformat_minor": 2
}
