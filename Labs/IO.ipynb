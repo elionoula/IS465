{
 "cells": [
  {
   "cell_type": "markdown",
   "metadata": {},
   "source": [
    "# Data Input and Output\n",
    "\n",
    "Pandas can read a variety of file types using its pd.read_ methods. Here, we will learn to work with csv and Excel files."
   ]
  },
  {
   "cell_type": "code",
   "execution_count": 1,
   "metadata": {},
   "outputs": [],
   "source": [
    "import numpy as np\n",
    "import pandas as pd"
   ]
  },
  {
   "cell_type": "code",
   "execution_count": 2,
   "metadata": {},
   "outputs": [
    {
     "data": {
      "text/plain": "'/Users/elion/PycharmProjects/pythonProject/IS465/Labs'"
     },
     "execution_count": 2,
     "metadata": {},
     "output_type": "execute_result"
    }
   ],
   "source": [
    "#To read a file, make sure that it is stored under the same directory as your Jupiter Notebook. To check, use:\n",
    "import os\n",
    "os.getcwd()  "
   ]
  },
  {
   "cell_type": "markdown",
   "metadata": {},
   "source": [
    "## CSV\n",
    "\n",
    "### CSV Input"
   ]
  },
  {
   "cell_type": "code",
   "execution_count": 3,
   "metadata": {},
   "outputs": [
    {
     "data": {
      "text/plain": "   Airport code         Country            City  Path ID  Path Order  \\\n0           PRG  Czech Republic          Prague  PRG-VIE           1   \n1           VIE         Austria          Vienna  PRG-VIE           2   \n2           PRG  Czech Republic          Prague  PRG-MSQ           1   \n3           MSQ         Belarus           Minsk  PRG-MSQ           2   \n4           PRG  Czech Republic          Prague  PRG-TMP           1   \n5           TMP         Finland         Tampere  PRG-TMP           2   \n6           PRG  Czech Republic          Prague  PRG-HAM           1   \n7           HAM         Germany         Hamburg  PRG-HAM           2   \n8           PRG  Czech Republic          Prague  PRG-ATH           1   \n9           ATH          Greece          Athens  PRG-ATH           2   \n10          PRG  Czech Republic          Prague  PRG-DUB           1   \n11          DUB         Ireland          Dublin  PRG-DUB           2   \n12          PRG  Czech Republic          Prague  PRG-MRS           1   \n13          MRS          France       Marseille  PRG-MRS           2   \n14          PRG  Czech Republic          Prague  PRG-AMS           1   \n15          AMS     Netherlands       Amsterdam  PRG-AMS           2   \n16          PRG  Czech Republic          Prague  PRG-WAW           1   \n17          WAW          Poland          Warsaw  PRG-WAW           2   \n18          PRG  Czech Republic          Prague  PRG-LIS           1   \n19          LIS        Portugal          Lisbon  PRG-LIS           2   \n20          PRG  Czech Republic          Prague  PRG-BEG           1   \n21          BEG          Serbia         Belgrad  PRG-BEG           2   \n22          PRG  Czech Republic          Prague  PRG-IST           1   \n23          IST          Turkey        Istanbul  PRG-IST           2   \n24          PRG  Czech Republic          Prague  PRG-DNK           1   \n25          DNK         Ukraine  Dnepropetrovsk  PRG-DNK           2   \n26          PRG  Czech Republic          Prague  PRG-FRA           1   \n27          FRA         Germany       Frankfurt  PRG-FRA           2   \n28          PRG  Czech Republic          Prague  PRG-SOF           1   \n29          SOF        Bulgaria           Sofia  PRG-SOF           2   \n\n    Flow Amount (t)   Latitude  Longitude  \n0               NaN  50.075538  14.437800  \n1             250.0  48.208174  16.373819  \n2               NaN  50.075538  14.437800  \n3            1200.0  53.904540  27.561524  \n4               NaN  50.075538  14.437800  \n5             800.0  61.497752  23.760954  \n6               NaN  50.075538  14.437800  \n7             400.0  53.551085   9.993682  \n8               NaN  50.075538  14.437800  \n9             150.0  37.983810  23.727539  \n10              NaN  50.075538  14.437800  \n11            500.0  53.349805  -6.260310  \n12              NaN  50.075538  14.437800  \n13            800.0  43.296482   5.369780  \n14              NaN  50.075538  14.437800  \n15             50.0  52.370216   4.895168  \n16              NaN  50.075538  14.437800  \n17            550.0  52.229676  21.012229  \n18              NaN  50.075538  14.437800  \n19            130.0  38.722252  -9.139337  \n20              NaN  50.075538  14.437800  \n21            920.0  44.786568  20.448922  \n22              NaN  50.075538  14.437800  \n23            810.0  41.008238  28.978359  \n24              NaN  50.075538  14.437800  \n25           1300.0  48.464717  35.046183  \n26              NaN  50.075538  14.437800  \n27           1000.0  50.110922   8.682127  \n28              NaN  50.075538  14.437800  \n29            380.0  42.697708  23.321868  ",
      "text/html": "<div>\n<style scoped>\n    .dataframe tbody tr th:only-of-type {\n        vertical-align: middle;\n    }\n\n    .dataframe tbody tr th {\n        vertical-align: top;\n    }\n\n    .dataframe thead th {\n        text-align: right;\n    }\n</style>\n<table border=\"1\" class=\"dataframe\">\n  <thead>\n    <tr style=\"text-align: right;\">\n      <th></th>\n      <th>Airport code</th>\n      <th>Country</th>\n      <th>City</th>\n      <th>Path ID</th>\n      <th>Path Order</th>\n      <th>Flow Amount (t)</th>\n      <th>Latitude</th>\n      <th>Longitude</th>\n    </tr>\n  </thead>\n  <tbody>\n    <tr>\n      <th>0</th>\n      <td>PRG</td>\n      <td>Czech Republic</td>\n      <td>Prague</td>\n      <td>PRG-VIE</td>\n      <td>1</td>\n      <td>NaN</td>\n      <td>50.075538</td>\n      <td>14.437800</td>\n    </tr>\n    <tr>\n      <th>1</th>\n      <td>VIE</td>\n      <td>Austria</td>\n      <td>Vienna</td>\n      <td>PRG-VIE</td>\n      <td>2</td>\n      <td>250.0</td>\n      <td>48.208174</td>\n      <td>16.373819</td>\n    </tr>\n    <tr>\n      <th>2</th>\n      <td>PRG</td>\n      <td>Czech Republic</td>\n      <td>Prague</td>\n      <td>PRG-MSQ</td>\n      <td>1</td>\n      <td>NaN</td>\n      <td>50.075538</td>\n      <td>14.437800</td>\n    </tr>\n    <tr>\n      <th>3</th>\n      <td>MSQ</td>\n      <td>Belarus</td>\n      <td>Minsk</td>\n      <td>PRG-MSQ</td>\n      <td>2</td>\n      <td>1200.0</td>\n      <td>53.904540</td>\n      <td>27.561524</td>\n    </tr>\n    <tr>\n      <th>4</th>\n      <td>PRG</td>\n      <td>Czech Republic</td>\n      <td>Prague</td>\n      <td>PRG-TMP</td>\n      <td>1</td>\n      <td>NaN</td>\n      <td>50.075538</td>\n      <td>14.437800</td>\n    </tr>\n    <tr>\n      <th>5</th>\n      <td>TMP</td>\n      <td>Finland</td>\n      <td>Tampere</td>\n      <td>PRG-TMP</td>\n      <td>2</td>\n      <td>800.0</td>\n      <td>61.497752</td>\n      <td>23.760954</td>\n    </tr>\n    <tr>\n      <th>6</th>\n      <td>PRG</td>\n      <td>Czech Republic</td>\n      <td>Prague</td>\n      <td>PRG-HAM</td>\n      <td>1</td>\n      <td>NaN</td>\n      <td>50.075538</td>\n      <td>14.437800</td>\n    </tr>\n    <tr>\n      <th>7</th>\n      <td>HAM</td>\n      <td>Germany</td>\n      <td>Hamburg</td>\n      <td>PRG-HAM</td>\n      <td>2</td>\n      <td>400.0</td>\n      <td>53.551085</td>\n      <td>9.993682</td>\n    </tr>\n    <tr>\n      <th>8</th>\n      <td>PRG</td>\n      <td>Czech Republic</td>\n      <td>Prague</td>\n      <td>PRG-ATH</td>\n      <td>1</td>\n      <td>NaN</td>\n      <td>50.075538</td>\n      <td>14.437800</td>\n    </tr>\n    <tr>\n      <th>9</th>\n      <td>ATH</td>\n      <td>Greece</td>\n      <td>Athens</td>\n      <td>PRG-ATH</td>\n      <td>2</td>\n      <td>150.0</td>\n      <td>37.983810</td>\n      <td>23.727539</td>\n    </tr>\n    <tr>\n      <th>10</th>\n      <td>PRG</td>\n      <td>Czech Republic</td>\n      <td>Prague</td>\n      <td>PRG-DUB</td>\n      <td>1</td>\n      <td>NaN</td>\n      <td>50.075538</td>\n      <td>14.437800</td>\n    </tr>\n    <tr>\n      <th>11</th>\n      <td>DUB</td>\n      <td>Ireland</td>\n      <td>Dublin</td>\n      <td>PRG-DUB</td>\n      <td>2</td>\n      <td>500.0</td>\n      <td>53.349805</td>\n      <td>-6.260310</td>\n    </tr>\n    <tr>\n      <th>12</th>\n      <td>PRG</td>\n      <td>Czech Republic</td>\n      <td>Prague</td>\n      <td>PRG-MRS</td>\n      <td>1</td>\n      <td>NaN</td>\n      <td>50.075538</td>\n      <td>14.437800</td>\n    </tr>\n    <tr>\n      <th>13</th>\n      <td>MRS</td>\n      <td>France</td>\n      <td>Marseille</td>\n      <td>PRG-MRS</td>\n      <td>2</td>\n      <td>800.0</td>\n      <td>43.296482</td>\n      <td>5.369780</td>\n    </tr>\n    <tr>\n      <th>14</th>\n      <td>PRG</td>\n      <td>Czech Republic</td>\n      <td>Prague</td>\n      <td>PRG-AMS</td>\n      <td>1</td>\n      <td>NaN</td>\n      <td>50.075538</td>\n      <td>14.437800</td>\n    </tr>\n    <tr>\n      <th>15</th>\n      <td>AMS</td>\n      <td>Netherlands</td>\n      <td>Amsterdam</td>\n      <td>PRG-AMS</td>\n      <td>2</td>\n      <td>50.0</td>\n      <td>52.370216</td>\n      <td>4.895168</td>\n    </tr>\n    <tr>\n      <th>16</th>\n      <td>PRG</td>\n      <td>Czech Republic</td>\n      <td>Prague</td>\n      <td>PRG-WAW</td>\n      <td>1</td>\n      <td>NaN</td>\n      <td>50.075538</td>\n      <td>14.437800</td>\n    </tr>\n    <tr>\n      <th>17</th>\n      <td>WAW</td>\n      <td>Poland</td>\n      <td>Warsaw</td>\n      <td>PRG-WAW</td>\n      <td>2</td>\n      <td>550.0</td>\n      <td>52.229676</td>\n      <td>21.012229</td>\n    </tr>\n    <tr>\n      <th>18</th>\n      <td>PRG</td>\n      <td>Czech Republic</td>\n      <td>Prague</td>\n      <td>PRG-LIS</td>\n      <td>1</td>\n      <td>NaN</td>\n      <td>50.075538</td>\n      <td>14.437800</td>\n    </tr>\n    <tr>\n      <th>19</th>\n      <td>LIS</td>\n      <td>Portugal</td>\n      <td>Lisbon</td>\n      <td>PRG-LIS</td>\n      <td>2</td>\n      <td>130.0</td>\n      <td>38.722252</td>\n      <td>-9.139337</td>\n    </tr>\n    <tr>\n      <th>20</th>\n      <td>PRG</td>\n      <td>Czech Republic</td>\n      <td>Prague</td>\n      <td>PRG-BEG</td>\n      <td>1</td>\n      <td>NaN</td>\n      <td>50.075538</td>\n      <td>14.437800</td>\n    </tr>\n    <tr>\n      <th>21</th>\n      <td>BEG</td>\n      <td>Serbia</td>\n      <td>Belgrad</td>\n      <td>PRG-BEG</td>\n      <td>2</td>\n      <td>920.0</td>\n      <td>44.786568</td>\n      <td>20.448922</td>\n    </tr>\n    <tr>\n      <th>22</th>\n      <td>PRG</td>\n      <td>Czech Republic</td>\n      <td>Prague</td>\n      <td>PRG-IST</td>\n      <td>1</td>\n      <td>NaN</td>\n      <td>50.075538</td>\n      <td>14.437800</td>\n    </tr>\n    <tr>\n      <th>23</th>\n      <td>IST</td>\n      <td>Turkey</td>\n      <td>Istanbul</td>\n      <td>PRG-IST</td>\n      <td>2</td>\n      <td>810.0</td>\n      <td>41.008238</td>\n      <td>28.978359</td>\n    </tr>\n    <tr>\n      <th>24</th>\n      <td>PRG</td>\n      <td>Czech Republic</td>\n      <td>Prague</td>\n      <td>PRG-DNK</td>\n      <td>1</td>\n      <td>NaN</td>\n      <td>50.075538</td>\n      <td>14.437800</td>\n    </tr>\n    <tr>\n      <th>25</th>\n      <td>DNK</td>\n      <td>Ukraine</td>\n      <td>Dnepropetrovsk</td>\n      <td>PRG-DNK</td>\n      <td>2</td>\n      <td>1300.0</td>\n      <td>48.464717</td>\n      <td>35.046183</td>\n    </tr>\n    <tr>\n      <th>26</th>\n      <td>PRG</td>\n      <td>Czech Republic</td>\n      <td>Prague</td>\n      <td>PRG-FRA</td>\n      <td>1</td>\n      <td>NaN</td>\n      <td>50.075538</td>\n      <td>14.437800</td>\n    </tr>\n    <tr>\n      <th>27</th>\n      <td>FRA</td>\n      <td>Germany</td>\n      <td>Frankfurt</td>\n      <td>PRG-FRA</td>\n      <td>2</td>\n      <td>1000.0</td>\n      <td>50.110922</td>\n      <td>8.682127</td>\n    </tr>\n    <tr>\n      <th>28</th>\n      <td>PRG</td>\n      <td>Czech Republic</td>\n      <td>Prague</td>\n      <td>PRG-SOF</td>\n      <td>1</td>\n      <td>NaN</td>\n      <td>50.075538</td>\n      <td>14.437800</td>\n    </tr>\n    <tr>\n      <th>29</th>\n      <td>SOF</td>\n      <td>Bulgaria</td>\n      <td>Sofia</td>\n      <td>PRG-SOF</td>\n      <td>2</td>\n      <td>380.0</td>\n      <td>42.697708</td>\n      <td>23.321868</td>\n    </tr>\n  </tbody>\n</table>\n</div>"
     },
     "execution_count": 3,
     "metadata": {},
     "output_type": "execute_result"
    }
   ],
   "source": [
    "# For this practice, please make sure that you download the \"flights.csv\" file to your Jupyter folder\n",
    "flight = pd.read_csv('flights.csv')\n",
    "flight"
   ]
  },
  {
   "cell_type": "markdown",
   "metadata": {},
   "source": [
    "### CSV Output"
   ]
  },
  {
   "cell_type": "code",
   "execution_count": 4,
   "metadata": {},
   "outputs": [],
   "source": [
    "flight.to_csv('test1.csv')\n",
    "#to remove the index field, just use:\n",
    "flight.to_csv('test1.csv',index=False)"
   ]
  },
  {
   "cell_type": "markdown",
   "metadata": {},
   "source": [
    "## Excel\n"
   ]
  },
  {
   "cell_type": "markdown",
   "metadata": {},
   "source": [
    "### Excel Input"
   ]
  },
  {
   "cell_type": "code",
   "execution_count": 5,
   "metadata": {},
   "outputs": [
    {
     "name": "stdout",
     "output_type": "stream",
     "text": [
      "       YEAR  MONTH  DAY  Customer   CustomerDescr    City Salesorg Country  \\\n",
      "0      2007      1    1      5000  Beantown Bikes  Boston     UE00      US   \n",
      "1      2007      1    1      5000  Beantown Bikes  Boston     UE00      US   \n",
      "2      2007      1    1      5000  Beantown Bikes  Boston     UE00      US   \n",
      "3      2007      1    1      5000  Beantown Bikes  Boston     UE00      US   \n",
      "4      2007      1    1      5000  Beantown Bikes  Boston     UE00      US   \n",
      "...     ...    ...  ...       ...             ...     ...      ...     ...   \n",
      "48379  2011     12   31     19000        Fahrpott  Bochum     DN00      DE   \n",
      "48380  2011     12   31     19000        Fahrpott  Bochum     DN00      DE   \n",
      "48381  2011     12   31     19000        Fahrpott  Bochum     DN00      DE   \n",
      "48382  2011     12   31     19000        Fahrpott  Bochum     DN00      DE   \n",
      "48383  2011     12   31     19000        Fahrpott  Bochum     DN00      DE   \n",
      "\n",
      "       OrderNumber  OrderItem  ... Division SalesQuantity UnitOfMeasure  \\\n",
      "0           100001         10  ...       BI             2            ST   \n",
      "1           100001         20  ...       BI             5            ST   \n",
      "2           100001         30  ...       BI             1            ST   \n",
      "3           100001         40  ...       BI             1            ST   \n",
      "4           100001         50  ...       BI             7            ST   \n",
      "...            ...        ...  ...      ...           ...           ...   \n",
      "48379       103318         80  ...       AS             1            ST   \n",
      "48380       103318         90  ...       AS             2            ST   \n",
      "48381       103318        100  ...       AS             1            ST   \n",
      "48382       103318        110  ...       AS             2            ST   \n",
      "48383       103318        120  ...       AS             1            ST   \n",
      "\n",
      "        Revenue  Currency Discount  CostOfGoodsManufactured Revenue USD  \\\n",
      "0       6000.00       USD    300.0                  2800.00     6000.00   \n",
      "1      16000.00       USD    800.0                  7500.00    16000.00   \n",
      "2       2400.00       USD    120.0                  1200.00     2400.00   \n",
      "3       1600.00       USD     80.0                   900.00     1600.00   \n",
      "4      11900.00       USD    595.0                  7000.00    11900.00   \n",
      "...         ...       ...      ...                      ...         ...   \n",
      "48379     43.35       EUR      0.0                    18.57       58.37   \n",
      "48380     31.22       EUR      0.0                    13.37       42.04   \n",
      "48381     27.75       EUR      0.0                    11.88       37.37   \n",
      "48382     48.56       EUR      0.0                    20.79       65.39   \n",
      "48383     34.68       EUR      0.0                    14.85       46.70   \n",
      "\n",
      "       Discount USD  Cogm USD  \n",
      "0             300.0    2800.0  \n",
      "1             800.0    7500.0  \n",
      "2             120.0    1200.0  \n",
      "3              80.0     900.0  \n",
      "4             595.0    7000.0  \n",
      "...             ...       ...  \n",
      "48379           0.0      25.0  \n",
      "48380           0.0      18.0  \n",
      "48381           0.0      16.0  \n",
      "48382           0.0      28.0  \n",
      "48383           0.0      20.0  \n",
      "\n",
      "[48384 rows x 23 columns]\n"
     ]
    }
   ],
   "source": [
    "GBI = pd.read_excel('GBI.xlsx',sheet_name='Sales')\n",
    "type(GBI)\n",
    "print(GBI)"
   ]
  },
  {
   "cell_type": "markdown",
   "metadata": {},
   "source": [
    "### Excel Output"
   ]
  },
  {
   "cell_type": "code",
   "execution_count": 6,
   "metadata": {},
   "outputs": [],
   "source": [
    "GBI.to_excel('test2.xlsx',sheet_name='Sheet1')"
   ]
  },
  {
   "cell_type": "markdown",
   "metadata": {},
   "source": [
    "## HTML\n",
    "\n",
    "You may need to install htmllib5,lxml, and BeautifulSoup4. Use:\n",
    "\n",
    "    conda install lxml\n",
    "    conda install html5lib\n",
    "    conda install BeautifulSoup4\n",
    "\n",
    "Then restart Jupyter Notebook. "
   ]
  },
  {
   "cell_type": "code",
   "execution_count": 3,
   "metadata": {},
   "outputs": [],
   "source": [
    "myData = pd.read_html('https://archive.ics.uci.edu/ml/datasets/Hepatitis+C+Virus+%28HCV%29+for+Egyptian+patients')"
   ]
  },
  {
   "cell_type": "code",
   "execution_count": 4,
   "metadata": {},
   "outputs": [
    {
     "data": {
      "text/plain": "list"
     },
     "execution_count": 4,
     "metadata": {},
     "output_type": "execute_result"
    }
   ],
   "source": [
    "# Note that read_html returns a LIST, not a data frame -- it is the list of HTML tags that might contain a table\n",
    "type(myData)"
   ]
  },
  {
   "cell_type": "code",
   "execution_count": 5,
   "metadata": {},
   "outputs": [
    {
     "data": {
      "text/plain": "                                                   0  \\\n0  Center for Machine Learning and Intelligent Sy...   \n\n                                                   1  \n0  About Citation Policy Donate a Data Set Contac...  ",
      "text/html": "<div>\n<style scoped>\n    .dataframe tbody tr th:only-of-type {\n        vertical-align: middle;\n    }\n\n    .dataframe tbody tr th {\n        vertical-align: top;\n    }\n\n    .dataframe thead th {\n        text-align: right;\n    }\n</style>\n<table border=\"1\" class=\"dataframe\">\n  <thead>\n    <tr style=\"text-align: right;\">\n      <th></th>\n      <th>0</th>\n      <th>1</th>\n    </tr>\n  </thead>\n  <tbody>\n    <tr>\n      <th>0</th>\n      <td>Center for Machine Learning and Intelligent Sy...</td>\n      <td>About Citation Policy Donate a Data Set Contac...</td>\n    </tr>\n  </tbody>\n</table>\n</div>"
     },
     "execution_count": 5,
     "metadata": {},
     "output_type": "execute_result"
    }
   ],
   "source": [
    "myData[0]"
   ]
  },
  {
   "cell_type": "code",
   "execution_count": 6,
   "metadata": {},
   "outputs": [
    {
     "data": {
      "text/plain": "                                                   0\n0  Hepatitis C Virus (HCV) for Egyptian patients ...",
      "text/html": "<div>\n<style scoped>\n    .dataframe tbody tr th:only-of-type {\n        vertical-align: middle;\n    }\n\n    .dataframe tbody tr th {\n        vertical-align: top;\n    }\n\n    .dataframe thead th {\n        text-align: right;\n    }\n</style>\n<table border=\"1\" class=\"dataframe\">\n  <thead>\n    <tr style=\"text-align: right;\">\n      <th></th>\n      <th>0</th>\n    </tr>\n  </thead>\n  <tbody>\n    <tr>\n      <th>0</th>\n      <td>Hepatitis C Virus (HCV) for Egyptian patients ...</td>\n    </tr>\n  </tbody>\n</table>\n</div>"
     },
     "execution_count": 6,
     "metadata": {},
     "output_type": "execute_result"
    }
   ],
   "source": [
    "myData[1]"
   ]
  },
  {
   "cell_type": "code",
   "execution_count": 7,
   "metadata": {},
   "outputs": [
    {
     "data": {
      "text/plain": "                            0               1                      2       3  \\\n0   Data Set Characteristics:    Multivariate   Number of Instances:  1385.0   \n1  Attribute Characteristics:   Integer, Real  Number of Attributes:    29.0   \n2           Associated Tasks:  Classification        Missing Values?     NaN   \n\n                     4           5  \n0                Area:        Life  \n1         Date Donated  2019-09-30  \n2  Number of Web Hits:       63815  ",
      "text/html": "<div>\n<style scoped>\n    .dataframe tbody tr th:only-of-type {\n        vertical-align: middle;\n    }\n\n    .dataframe tbody tr th {\n        vertical-align: top;\n    }\n\n    .dataframe thead th {\n        text-align: right;\n    }\n</style>\n<table border=\"1\" class=\"dataframe\">\n  <thead>\n    <tr style=\"text-align: right;\">\n      <th></th>\n      <th>0</th>\n      <th>1</th>\n      <th>2</th>\n      <th>3</th>\n      <th>4</th>\n      <th>5</th>\n    </tr>\n  </thead>\n  <tbody>\n    <tr>\n      <th>0</th>\n      <td>Data Set Characteristics:</td>\n      <td>Multivariate</td>\n      <td>Number of Instances:</td>\n      <td>1385.0</td>\n      <td>Area:</td>\n      <td>Life</td>\n    </tr>\n    <tr>\n      <th>1</th>\n      <td>Attribute Characteristics:</td>\n      <td>Integer, Real</td>\n      <td>Number of Attributes:</td>\n      <td>29.0</td>\n      <td>Date Donated</td>\n      <td>2019-09-30</td>\n    </tr>\n    <tr>\n      <th>2</th>\n      <td>Associated Tasks:</td>\n      <td>Classification</td>\n      <td>Missing Values?</td>\n      <td>NaN</td>\n      <td>Number of Web Hits:</td>\n      <td>63815</td>\n    </tr>\n  </tbody>\n</table>\n</div>"
     },
     "execution_count": 7,
     "metadata": {},
     "output_type": "execute_result"
    }
   ],
   "source": [
    "myData[3]"
   ]
  },
  {
   "cell_type": "code",
   "execution_count": null,
   "outputs": [],
   "source": [],
   "metadata": {
    "collapsed": false,
    "pycharm": {
     "name": "#%%\n"
    }
   }
  }
 ],
 "metadata": {
  "kernelspec": {
   "display_name": "Python 3",
   "language": "python",
   "name": "python3"
  },
  "language_info": {
   "codemirror_mode": {
    "name": "ipython",
    "version": 3
   },
   "file_extension": ".py",
   "mimetype": "text/x-python",
   "name": "python",
   "nbconvert_exporter": "python",
   "pygments_lexer": "ipython3",
   "version": "3.7.4"
  }
 },
 "nbformat": 4,
 "nbformat_minor": 1
}