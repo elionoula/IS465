{
 "cells": [
  {
   "cell_type": "markdown",
   "metadata": {},
   "source": [
    "# In this session, we learn the one data structure we will be working with the most: dataFrame"
   ]
  },
  {
   "cell_type": "markdown",
   "metadata": {},
   "source": [
    "## <font color=\"red\"> DataFrame </font>"
   ]
  },
  {
   "cell_type": "markdown",
   "metadata": {},
   "source": [
    "DataFrame is Pandas' way to handle tabular data. \n",
    "You can think of it as a two-way array. In fact, each column of the \"table\" is a series"
   ]
  },
  {
   "cell_type": "markdown",
   "metadata": {},
   "source": [
    "## <font color=\"blue\"> 1. Define a DataFrame </font>"
   ]
  },
  {
   "cell_type": "code",
   "execution_count": null,
   "metadata": {},
   "outputs": [],
   "source": [
    "#In this example, we first create a 4 by 3 array, then use this array to create a df object.\n",
    "\n",
    "import pandas as pd\n",
    "import numpy as np\n",
    "a = np.random.rand(4,3)\n",
    "print(type(a))\n",
    "print(a)\n",
    "df = pd.DataFrame(a)\n",
    "print(df)"
   ]
  },
  {
   "cell_type": "code",
   "execution_count": null,
   "metadata": {},
   "outputs": [],
   "source": [
    "# We could add labels to each column -- this would be your \"column headers\"\n",
    "df.columns = ['A','B','C']\n",
    "df"
   ]
  },
  {
   "cell_type": "code",
   "execution_count": null,
   "metadata": {},
   "outputs": [],
   "source": [
    "# What about the rows? the default would always start from 0. To change the row index, use the index() function --\n",
    "# Remember, a df is actually a bunch of series put together. Each column is a series, therefore, all series command \n",
    "# works for all columns\n",
    "df.index =[1,2,3,4]\n",
    "df"
   ]
  },
  {
   "cell_type": "code",
   "execution_count": null,
   "metadata": {},
   "outputs": [],
   "source": [
    "# We can also convenient create time series, thanks to the date_range() function\n",
    "df.index = pd.date_range('20200101',periods = 4)\n",
    "df"
   ]
  },
  {
   "cell_type": "code",
   "execution_count": null,
   "metadata": {},
   "outputs": [],
   "source": [
    "# To GET the column name:\n",
    "print(df.columns)\n",
    "# To GET the row index:\n",
    "print(df.index)\n",
    "# To get the values of the whole table:\n",
    "print(df.values)"
   ]
  },
  {
   "cell_type": "code",
   "execution_count": null,
   "metadata": {},
   "outputs": [],
   "source": [
    "# Most of the time, we use excel or csv files as input and use dataFrame to hold a table. Please refer to the IO tutorial file "
   ]
  },
  {
   "cell_type": "markdown",
   "metadata": {},
   "source": [
    "## <font color=\"blue\"> 2. Reading Operations </font>"
   ]
  },
  {
   "cell_type": "markdown",
   "metadata": {},
   "source": [
    "Just like an NumPy array, we can do slicing in DataFrame as well\n"
   ]
  },
  {
   "cell_type": "code",
   "execution_count": null,
   "metadata": {},
   "outputs": [],
   "source": [
    "# Selecting the first five rows\n",
    "df.head()"
   ]
  },
  {
   "cell_type": "code",
   "execution_count": null,
   "metadata": {},
   "outputs": [],
   "source": [
    "# You can also decide how many rows you want\n",
    "df = pd.DataFrame(np.random.rand(20,20))\n",
    "print(df)\n",
    "df.head(6)"
   ]
  },
  {
   "cell_type": "code",
   "execution_count": null,
   "metadata": {},
   "outputs": [],
   "source": [
    "# You can also view the LAST five rows of the table:\n",
    "df.tail()"
   ]
  },
  {
   "cell_type": "code",
   "execution_count": null,
   "metadata": {},
   "outputs": [],
   "source": [
    "# and you can also customize\n",
    "df.tail(7)"
   ]
  },
  {
   "cell_type": "code",
   "execution_count": null,
   "metadata": {},
   "outputs": [],
   "source": [
    "# You can select a specific column\n",
    "df.columns = np.arange(1,21)\n",
    "print(df)\n",
    "print(df[4])"
   ]
  },
  {
   "cell_type": "code",
   "execution_count": null,
   "metadata": {},
   "outputs": [],
   "source": [
    "# Remember that each COLUMN is a series, so you are actually returning a series\n",
    "a = df[6]\n",
    "type(a)"
   ]
  },
  {
   "cell_type": "code",
   "execution_count": null,
   "metadata": {},
   "outputs": [],
   "source": [
    "# However, if you retrieve multiple columns...\n",
    "b = df[[6,9]]\n",
    "print(b)\n",
    "print(type(b))"
   ]
  },
  {
   "cell_type": "code",
   "execution_count": null,
   "metadata": {},
   "outputs": [],
   "source": [
    "# We have covered slicing by columns. Now we slice by rows\n",
    "print(df[2:4])"
   ]
  },
  {
   "cell_type": "code",
   "execution_count": null,
   "metadata": {},
   "outputs": [],
   "source": [
    "# Notice how row and columns work differently -- this would NOT return the fourth row:\n",
    "print(df[4])\n",
    "# How do you retrieve row 4 then? by using iloc()\n",
    "print(df.iloc[4])"
   ]
  },
  {
   "cell_type": "code",
   "execution_count": 2,
   "metadata": {},
   "outputs": [
    {
     "name": "stdout",
     "output_type": "stream",
     "text": [
      "[[67 85 38 61 22 94]\n",
      " [44 57 77 38 93 53]\n",
      " [12 23 92 71 30 54]\n",
      " [65 65 86 71 40 42]\n",
      " [25 76 63 31 73 80]]\n"
     ]
    }
   ],
   "source": [
    "# is it a little hard to see using the above example? Let's create another df and refresh our memory of the array object\n",
    "import pandas as pd\n",
    "import numpy as np\n",
    "a = np.array(np.random.randint(1,100,30))\n",
    "b = a.reshape(5,-1)\n",
    "print(b)"
   ]
  },
  {
   "cell_type": "code",
   "execution_count": null,
   "metadata": {},
   "outputs": [],
   "source": [
    "df2 = pd.DataFrame(b)\n",
    "df2"
   ]
  },
  {
   "cell_type": "code",
   "execution_count": null,
   "metadata": {},
   "outputs": [],
   "source": [
    "# Now let's compare how you retrive a row vs. a column\n",
    "df2[3]"
   ]
  },
  {
   "cell_type": "code",
   "execution_count": null,
   "metadata": {},
   "outputs": [],
   "source": [
    "df2[3:5]"
   ]
  },
  {
   "cell_type": "code",
   "execution_count": null,
   "metadata": {},
   "outputs": [],
   "source": [
    "df2[[3,5]]"
   ]
  },
  {
   "cell_type": "code",
   "execution_count": null,
   "metadata": {},
   "outputs": [],
   "source": [
    "df2.iloc[2]"
   ]
  },
  {
   "cell_type": "code",
   "execution_count": null,
   "metadata": {},
   "outputs": [],
   "source": [
    "df2.iloc[2:4]"
   ]
  },
  {
   "cell_type": "code",
   "execution_count": null,
   "metadata": {},
   "outputs": [],
   "source": [
    "df2.iloc[[2,4]]"
   ]
  },
  {
   "cell_type": "code",
   "execution_count": null,
   "metadata": {},
   "outputs": [],
   "source": [
    "df2.iloc[2,4]"
   ]
  },
  {
   "cell_type": "code",
   "execution_count": null,
   "metadata": {},
   "outputs": [],
   "source": [
    "# Confusing? When iloc takes in ONE item - be it a list or a number, it inteprets it as the row index\n",
    "# However, if it takes in TWO parameters separated by \",\" it will take the first one as the row index and the second one as the \n",
    "# column index\n",
    "df2.iloc[2:4,3:5]"
   ]
  },
  {
   "cell_type": "code",
   "execution_count": null,
   "metadata": {},
   "outputs": [],
   "source": [
    "# To Summarize:\n",
    "# To retrive whole columns, you just need to use the command df[column indexes]\n",
    "# Try retrieve column 2 and 5 from df2:\n",
    "\n"
   ]
  },
  {
   "cell_type": "code",
   "execution_count": null,
   "metadata": {},
   "outputs": [],
   "source": [
    "# To retrieve rows, you need the iloc function: df.iloc[row numbers]\n",
    "# Try retrieve row 2 and row 4 from df2\n"
   ]
  },
  {
   "cell_type": "code",
   "execution_count": null,
   "metadata": {},
   "outputs": [],
   "source": [
    "# To slice, you use iloc() with TWO parameters\n",
    "# Try retrieve row 1 and 3 at column 2 and 4\n"
   ]
  },
  {
   "cell_type": "markdown",
   "metadata": {},
   "source": [
    "------------------------------------------------------------------------------------------------------------------"
   ]
  },
  {
   "cell_type": "code",
   "execution_count": 3,
   "metadata": {},
   "outputs": [
    {
     "name": "stdout",
     "output_type": "stream",
     "text": [
      "       YEAR  MONTH  DAY  Customer   CustomerDescr    City Salesorg Country  \\\n",
      "0      2007      1    1      5000  Beantown Bikes  Boston     UE00      US   \n",
      "1      2007      1    1      5000  Beantown Bikes  Boston     UE00      US   \n",
      "2      2007      1    1      5000  Beantown Bikes  Boston     UE00      US   \n",
      "3      2007      1    1      5000  Beantown Bikes  Boston     UE00      US   \n",
      "4      2007      1    1      5000  Beantown Bikes  Boston     UE00      US   \n",
      "...     ...    ...  ...       ...             ...     ...      ...     ...   \n",
      "48379  2011     12   31     19000        Fahrpott  Bochum     DN00      DE   \n",
      "48380  2011     12   31     19000        Fahrpott  Bochum     DN00      DE   \n",
      "48381  2011     12   31     19000        Fahrpott  Bochum     DN00      DE   \n",
      "48382  2011     12   31     19000        Fahrpott  Bochum     DN00      DE   \n",
      "48383  2011     12   31     19000        Fahrpott  Bochum     DN00      DE   \n",
      "\n",
      "       OrderNumber  OrderItem  ... Division SalesQuantity UnitOfMeasure  \\\n",
      "0           100001         10  ...       BI             2            ST   \n",
      "1           100001         20  ...       BI             5            ST   \n",
      "2           100001         30  ...       BI             1            ST   \n",
      "3           100001         40  ...       BI             1            ST   \n",
      "4           100001         50  ...       BI             7            ST   \n",
      "...            ...        ...  ...      ...           ...           ...   \n",
      "48379       103318         80  ...       AS             1            ST   \n",
      "48380       103318         90  ...       AS             2            ST   \n",
      "48381       103318        100  ...       AS             1            ST   \n",
      "48382       103318        110  ...       AS             2            ST   \n",
      "48383       103318        120  ...       AS             1            ST   \n",
      "\n",
      "        Revenue  Currency Discount  CostOfGoodsManufactured Revenue USD  \\\n",
      "0       6000.00       USD    300.0                  2800.00     6000.00   \n",
      "1      16000.00       USD    800.0                  7500.00    16000.00   \n",
      "2       2400.00       USD    120.0                  1200.00     2400.00   \n",
      "3       1600.00       USD     80.0                   900.00     1600.00   \n",
      "4      11900.00       USD    595.0                  7000.00    11900.00   \n",
      "...         ...       ...      ...                      ...         ...   \n",
      "48379     43.35       EUR      0.0                    18.57       58.37   \n",
      "48380     31.22       EUR      0.0                    13.37       42.04   \n",
      "48381     27.75       EUR      0.0                    11.88       37.37   \n",
      "48382     48.56       EUR      0.0                    20.79       65.39   \n",
      "48383     34.68       EUR      0.0                    14.85       46.70   \n",
      "\n",
      "       Discount USD  Cogm USD  \n",
      "0             300.0    2800.0  \n",
      "1             800.0    7500.0  \n",
      "2             120.0    1200.0  \n",
      "3              80.0     900.0  \n",
      "4             595.0    7000.0  \n",
      "...             ...       ...  \n",
      "48379           0.0      25.0  \n",
      "48380           0.0      18.0  \n",
      "48381           0.0      16.0  \n",
      "48382           0.0      28.0  \n",
      "48383           0.0      20.0  \n",
      "\n",
      "[48384 rows x 23 columns]\n"
     ]
    }
   ],
   "source": [
    "#Let's now work with real data set.\n",
    "GBI = pd.read_excel('GBI.xlsx',sheet_name='Sales')\n",
    "print(GBI)"
   ]
  },
  {
   "cell_type": "code",
   "execution_count": 4,
   "metadata": {},
   "outputs": [
    {
     "data": {
      "text/plain": "0        Boston\n1        Boston\n2        Boston\n3        Boston\n4        Boston\n          ...  \n48379    Bochum\n48380    Bochum\n48381    Bochum\n48382    Bochum\n48383    Bochum\nName: City, Length: 48384, dtype: object"
     },
     "execution_count": 4,
     "metadata": {},
     "output_type": "execute_result"
    }
   ],
   "source": [
    "#How do we use column NAME instead of POSITION to retrieve a column?\n",
    "#Let's retrieve the 'CITY' column:\n",
    "GBI['City']"
   ]
  },
  {
   "cell_type": "code",
   "execution_count": 5,
   "metadata": {},
   "outputs": [
    {
     "data": {
      "text/plain": "0        Boston\n1        Boston\n2        Boston\n3        Boston\n4        Boston\n          ...  \n48379    Bochum\n48380    Bochum\n48381    Bochum\n48382    Bochum\n48383    Bochum\nName: City, Length: 48384, dtype: object"
     },
     "execution_count": 5,
     "metadata": {},
     "output_type": "execute_result"
    }
   ],
   "source": [
    "#It is the same as loc() function - NOTE that the syntax for loc[], just like iloc[], is row,column\n",
    "GBI.loc[:,'City']"
   ]
  },
  {
   "cell_type": "code",
   "execution_count": 6,
   "metadata": {},
   "outputs": [
    {
     "data": {
      "text/plain": "0        Boston\n1        Boston\n2        Boston\n3        Boston\n4        Boston\n          ...  \n48379    Bochum\n48380    Bochum\n48381    Bochum\n48382    Bochum\n48383    Bochum\nName: City, Length: 48384, dtype: object"
     },
     "execution_count": 6,
     "metadata": {},
     "output_type": "execute_result"
    }
   ],
   "source": [
    "#... or simply:\n",
    "GBI.City"
   ]
  },
  {
   "cell_type": "code",
   "execution_count": 7,
   "metadata": {},
   "outputs": [
    {
     "data": {
      "text/plain": "array(['Boston', 'München', 'Berlin', 'Bochum', 'Atlanta', 'Chicago',\n       'Hannover', 'Leipzig', 'Stuttgart', 'Magdeburg', 'Irvine',\n       'Hamburg', 'New York City', 'Detroit', 'Heidelberg',\n       'Philadelphia', 'Grand Rapids', 'Seattle', 'Washington DC',\n       'Denver', 'Palo Alto', 'Frankfurt', 'Anklam'], dtype=object)"
     },
     "execution_count": 7,
     "metadata": {},
     "output_type": "execute_result"
    }
   ],
   "source": [
    "#You can also select unique values of a column\n",
    "GBI.City.unique()"
   ]
  },
  {
   "cell_type": "code",
   "execution_count": 10,
   "metadata": {},
   "outputs": [
    {
     "name": "stdout",
     "output_type": "stream",
     "text": [
      "0    Boston\n",
      "1    Boston\n",
      "2    Boston\n",
      "3    Boston\n",
      "4    Boston\n",
      "Name: City, dtype: object\n"
     ]
    }
   ],
   "source": [
    "# Let's try to retrieve the first five rows of the city column\n",
    "print(GBI.loc[0:4,'City'])"
   ]
  },
  {
   "cell_type": "code",
   "execution_count": 9,
   "metadata": {},
   "outputs": [
    {
     "data": {
      "text/plain": "'Atlanta'"
     },
     "execution_count": 9,
     "metadata": {},
     "output_type": "execute_result"
    }
   ],
   "source": [
    "#Exercise: print the City name for the 100th row in GBI; \n",
    "GBI.City[100]"
   ]
  },
  {
   "cell_type": "code",
   "execution_count": 11,
   "metadata": {},
   "outputs": [
    {
     "name": "stdout",
     "output_type": "stream",
     "text": [
      "       YEAR  MONTH  DAY  Customer    CustomerDescr     City Salesorg Country  \\\n",
      "1      2007      1    1      5000   Beantown Bikes   Boston     UE00      US   \n",
      "4      2007      1    1      5000   Beantown Bikes   Boston     UE00      US   \n",
      "6      2007      1    1      5000   Beantown Bikes   Boston     UE00      US   \n",
      "14     2007      1    1     15000    Bavaria Bikes  München     DS00      DE   \n",
      "28     2007      1    1     16000    Capital Bikes   Berlin     DN00      DE   \n",
      "...     ...    ...  ...       ...              ...      ...      ...     ...   \n",
      "48207  2011     12   10     23000  Red Light Bikes  Hamburg     DN00      DE   \n",
      "48215  2011     12   12     16000    Capital Bikes   Berlin     DN00      DE   \n",
      "48216  2011     12   12     16000    Capital Bikes   Berlin     DN00      DE   \n",
      "48346  2011     12   28     15000    Bavaria Bikes  München     DS00      DE   \n",
      "48351  2011     12   28     15000    Bavaria Bikes  München     DS00      DE   \n",
      "\n",
      "       OrderNumber  OrderItem  ... Division SalesQuantity UnitOfMeasure  \\\n",
      "1           100001         20  ...       BI             5            ST   \n",
      "4           100001         50  ...       BI             7            ST   \n",
      "6           100001         70  ...       BI             2            ST   \n",
      "14          100002         30  ...       BI             3            ST   \n",
      "28          100003         20  ...       BI             4            ST   \n",
      "...            ...        ...  ...      ...           ...           ...   \n",
      "48207       103302        100  ...       BI             2            ST   \n",
      "48215       103303         20  ...       BI             3            ST   \n",
      "48216       103303         30  ...       BI             6            ST   \n",
      "48346       103315         70  ...       BI             5            ST   \n",
      "48351       103315        120  ...       BI             3            ST   \n",
      "\n",
      "        Revenue  Currency Discount  CostOfGoodsManufactured Revenue USD  \\\n",
      "1      16000.00       USD   800.00                  7500.00    16000.00   \n",
      "4      11900.00       USD   595.00                  7000.00    11900.00   \n",
      "6       8000.00       USD   400.00                  4400.00     8000.00   \n",
      "14      7842.54       EUR   392.13                  3342.00    10559.98   \n",
      "28      9803.20       EUR   294.10                  4158.93    13200.01   \n",
      "...         ...       ...      ...                      ...         ...   \n",
      "48207   6936.50       EUR   208.10                  3267.73     9340.00   \n",
      "48215   6242.85       EUR   187.29                  2673.60     8406.00   \n",
      "48216   8844.06       EUR   265.32                  4456.00    11908.53   \n",
      "48346  10404.75       EUR   520.24                  4456.00    14010.00   \n",
      "48351  10404.75       EUR   520.24                  4901.60    14010.00   \n",
      "\n",
      "       Discount USD  Cogm USD  \n",
      "1            800.00    7500.0  \n",
      "4            595.00    7000.0  \n",
      "6            400.00    4400.0  \n",
      "14           528.00    4500.0  \n",
      "28           396.01    5600.0  \n",
      "...             ...       ...  \n",
      "48207        280.21    4400.0  \n",
      "48215        252.19    3600.0  \n",
      "48216        357.25    6000.0  \n",
      "48346        700.50    6000.0  \n",
      "48351        700.50    6600.0  \n",
      "\n",
      "[11154 rows x 23 columns]\n"
     ]
    }
   ],
   "source": [
    "# Selecting based on value: Just like list, you can use logic operators to filter out rows you do not want\n",
    "print(GBI[GBI.Revenue>6000])\n"
   ]
  },
  {
   "cell_type": "markdown",
   "metadata": {},
   "source": [
    "## <font color=\"blue\"> 3. Writing Operations </font>"
   ]
  },
  {
   "cell_type": "code",
   "execution_count": 12,
   "metadata": {},
   "outputs": [
    {
     "name": "stdout",
     "output_type": "stream",
     "text": [
      "       YEAR  MONTH  DAY  Customer   CustomerDescr    City Salesorg Country  \\\n",
      "48383  2011     12   31     19000        Fahrpott  Bochum     DN00      DE   \n",
      "48382  2011     12   31     19000        Fahrpott  Bochum     DN00      DE   \n",
      "48381  2011     12   31     19000        Fahrpott  Bochum     DN00      DE   \n",
      "48380  2011     12   31     19000        Fahrpott  Bochum     DN00      DE   \n",
      "48379  2011     12   31     19000        Fahrpott  Bochum     DN00      DE   \n",
      "...     ...    ...  ...       ...             ...     ...      ...     ...   \n",
      "4      2007      1    1      5000  Beantown Bikes  Boston     UE00      US   \n",
      "3      2007      1    1      5000  Beantown Bikes  Boston     UE00      US   \n",
      "2      2007      1    1      5000  Beantown Bikes  Boston     UE00      US   \n",
      "1      2007      1    1      5000  Beantown Bikes  Boston     UE00      US   \n",
      "0      2007      1    1      5000  Beantown Bikes  Boston     UE00      US   \n",
      "\n",
      "       OrderNumber  OrderItem  ... Division SalesQuantity UnitOfMeasure  \\\n",
      "48383       103318        120  ...       AS             1            ST   \n",
      "48382       103318        110  ...       AS             2            ST   \n",
      "48381       103318        100  ...       AS             1            ST   \n",
      "48380       103318         90  ...       AS             2            ST   \n",
      "48379       103318         80  ...       AS             1            ST   \n",
      "...            ...        ...  ...      ...           ...           ...   \n",
      "4           100001         50  ...       BI             7            ST   \n",
      "3           100001         40  ...       BI             1            ST   \n",
      "2           100001         30  ...       BI             1            ST   \n",
      "1           100001         20  ...       BI             5            ST   \n",
      "0           100001         10  ...       BI             2            ST   \n",
      "\n",
      "        Revenue  Currency Discount  CostOfGoodsManufactured Revenue USD  \\\n",
      "48383     34.68       EUR      0.0                    14.85       46.70   \n",
      "48382     48.56       EUR      0.0                    20.79       65.39   \n",
      "48381     27.75       EUR      0.0                    11.88       37.37   \n",
      "48380     31.22       EUR      0.0                    13.37       42.04   \n",
      "48379     43.35       EUR      0.0                    18.57       58.37   \n",
      "...         ...       ...      ...                      ...         ...   \n",
      "4      11900.00       USD    595.0                  7000.00    11900.00   \n",
      "3       1600.00       USD     80.0                   900.00     1600.00   \n",
      "2       2400.00       USD    120.0                  1200.00     2400.00   \n",
      "1      16000.00       USD    800.0                  7500.00    16000.00   \n",
      "0       6000.00       USD    300.0                  2800.00     6000.00   \n",
      "\n",
      "       Discount USD  Cogm USD  \n",
      "48383           0.0      20.0  \n",
      "48382           0.0      28.0  \n",
      "48381           0.0      16.0  \n",
      "48380           0.0      18.0  \n",
      "48379           0.0      25.0  \n",
      "...             ...       ...  \n",
      "4             595.0    7000.0  \n",
      "3              80.0     900.0  \n",
      "2             120.0    1200.0  \n",
      "1             800.0    7500.0  \n",
      "0             300.0    2800.0  \n",
      "\n",
      "[48384 rows x 23 columns]\n",
      "       YEAR UnitOfMeasure Salesorg  SalesQuantity  Revenue USD   Revenue  \\\n",
      "0      2007            ST     UE00              2      6000.00   6000.00   \n",
      "1      2007            ST     UE00              5     16000.00  16000.00   \n",
      "2      2007            ST     UE00              1      2400.00   2400.00   \n",
      "3      2007            ST     UE00              1      1600.00   1600.00   \n",
      "4      2007            ST     UE00              7     11900.00  11900.00   \n",
      "...     ...           ...      ...            ...          ...       ...   \n",
      "48379  2011            ST     DN00              1        58.37     43.35   \n",
      "48380  2011            ST     DN00              2        42.04     31.22   \n",
      "48381  2011            ST     DN00              1        37.37     27.75   \n",
      "48382  2011            ST     DN00              2        65.39     48.56   \n",
      "48383  2011            ST     DN00              1        46.70     34.68   \n",
      "\n",
      "                                  ProductDescr Product Category   Product  \\\n",
      "0                 Deluxe Touring Bike (silver)              TOU  DXTR2000   \n",
      "1           Professional Touring Bike (silver)              TOU  PRTR2000   \n",
      "2                    Men's Off Road Bike Fully              ORB  ORMN1000   \n",
      "3      Men's Off Road Bike Hard Tail (Shimano)              ORB  ORHT1000   \n",
      "4                   Deluxe Road Bike (Shimano)              ROB  DXRD1000   \n",
      "...                                        ...              ...       ...   \n",
      "48379                          Off Road Helmet              ACC  OHMT1000   \n",
      "48380                        Water Bottle Cage              ACC  CAGE1000   \n",
      "48381                               Repair Kit              ACC  RKIT1000   \n",
      "48382                                 Air Pump              ACC  PUMP1000   \n",
      "48383                            First Aid Kit              ACC  FAID1000   \n",
      "\n",
      "       OrderNumber  ...  Discount USD  Discount DAY   CustomerDescr  Customer  \\\n",
      "0           100001  ...         300.0     300.0   1  Beantown Bikes      5000   \n",
      "1           100001  ...         800.0     800.0   1  Beantown Bikes      5000   \n",
      "2           100001  ...         120.0     120.0   1  Beantown Bikes      5000   \n",
      "3           100001  ...          80.0      80.0   1  Beantown Bikes      5000   \n",
      "4           100001  ...         595.0     595.0   1  Beantown Bikes      5000   \n",
      "...            ...  ...           ...       ...  ..             ...       ...   \n",
      "48379       103318  ...           0.0       0.0  31        Fahrpott     19000   \n",
      "48380       103318  ...           0.0       0.0  31        Fahrpott     19000   \n",
      "48381       103318  ...           0.0       0.0  31        Fahrpott     19000   \n",
      "48382       103318  ...           0.0       0.0  31        Fahrpott     19000   \n",
      "48383       103318  ...           0.0       0.0  31        Fahrpott     19000   \n",
      "\n",
      "       Currency Country  CostOfGoodsManufactured Cogm USD    City  \n",
      "0           USD      US                  2800.00   2800.0  Boston  \n",
      "1           USD      US                  7500.00   7500.0  Boston  \n",
      "2           USD      US                  1200.00   1200.0  Boston  \n",
      "3           USD      US                   900.00    900.0  Boston  \n",
      "4           USD      US                  7000.00   7000.0  Boston  \n",
      "...         ...     ...                      ...      ...     ...  \n",
      "48379       EUR      DE                    18.57     25.0  Bochum  \n",
      "48380       EUR      DE                    13.37     18.0  Bochum  \n",
      "48381       EUR      DE                    11.88     16.0  Bochum  \n",
      "48382       EUR      DE                    20.79     28.0  Bochum  \n",
      "48383       EUR      DE                    14.85     20.0  Bochum  \n",
      "\n",
      "[48384 rows x 23 columns]\n"
     ]
    }
   ],
   "source": [
    "# Sorting can be done by labels:\n",
    "print(GBI.sort_index(axis=0, ascending = False))\n",
    "print(GBI.sort_index(axis=1, ascending = False))\n",
    "# axis 0 means sorting by row, axis 1 means sorting by column LABLES"
   ]
  },
  {
   "cell_type": "code",
   "execution_count": null,
   "outputs": [],
   "source": [],
   "metadata": {
    "collapsed": false,
    "pycharm": {
     "name": "#%%\n"
    }
   }
  }
 ],
 "metadata": {
  "kernelspec": {
   "display_name": "Python 3",
   "language": "python",
   "name": "python3"
  },
  "language_info": {
   "codemirror_mode": {
    "name": "ipython",
    "version": 3
   },
   "file_extension": ".py",
   "mimetype": "text/x-python",
   "name": "python",
   "nbconvert_exporter": "python",
   "pygments_lexer": "ipython3",
   "version": "3.7.4"
  }
 },
 "nbformat": 4,
 "nbformat_minor": 2
}