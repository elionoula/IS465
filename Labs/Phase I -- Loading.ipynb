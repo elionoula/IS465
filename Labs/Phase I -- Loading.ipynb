{
 "cells": [
  {
   "cell_type": "markdown",
   "metadata": {},
   "source": [
    "In this case study, we will use real world data set of credit card default payments in Taiwan and predict whether a client will go default based on past financial data. In this tutorial, we will simply load the data into Python \n",
    "\n",
    "Please go to https://archive.ics.uci.edu/ml/datasets/default+of+credit+card+clients to download the case data. Please save it to your Python working folder as \"default.csv\""
   ]
  },
  {
   "cell_type": "code",
   "execution_count": 1,
   "metadata": {},
   "outputs": [],
   "source": [
    "import numpy as np\n",
    "import pandas as pd"
   ]
  },
  {
   "cell_type": "code",
   "execution_count": 2,
   "metadata": {},
   "outputs": [
    {
     "data": {
      "text/plain": "                  ID  LIMIT_BAL  SEX  EDUCATION  MARRIAGE  AGE PAY_1  PAY_2  \\\n0      798fc410-45c1      20000    2          2         1   24     2      2   \n1      8a8c8f3b-8eb4     120000    2          2         2   26    -1      2   \n2      85698822-43f5      90000    2          2         2   34     0      0   \n3      0737c11b-be42      50000    2          2         1   37     0      0   \n4      3b7f77cc-dbc0      50000    1          2         1   57    -1      0   \n...              ...        ...  ...        ...       ...  ...   ...    ...   \n29995  ecff42d0-bdc6     220000    1          3         1   39     0      0   \n29996  99d1fa0e-222b     150000    1          3         2   43    -1     -1   \n29997  95cdd3e7-4f24      30000    1          2         2   37     4      3   \n29998  00d03f02-04cd      80000    1          3         1   41     1     -1   \n29999  15d69f9f-5ad3      50000    1          2         1   46     0      0   \n\n       PAY_3  PAY_4  ...  BILL_AMT4  BILL_AMT5  BILL_AMT6  PAY_AMT1  PAY_AMT2  \\\n0         -1     -1  ...          0          0          0         0       689   \n1          0      0  ...       3272       3455       3261         0      1000   \n2          0      0  ...      14331      14948      15549      1518      1500   \n3          0      0  ...      28314      28959      29547      2000      2019   \n4         -1      0  ...      20940      19146      19131      2000     36681   \n...      ...    ...  ...        ...        ...        ...       ...       ...   \n29995      0      0  ...      88004      31237      15980      8500     20000   \n29996     -1     -1  ...       8979       5190          0      1837      3526   \n29997      2     -1  ...      20878      20582      19357         0         0   \n29998      0      0  ...      52774      11855      48944     85900      3409   \n29999      0      0  ...      36535      32428      15313      2078      1800   \n\n       PAY_AMT3  PAY_AMT4  PAY_AMT5  PAY_AMT6  default payment next month  \n0             0         0         0         0                           1  \n1          1000      1000         0      2000                           1  \n2          1000      1000      1000      5000                           0  \n3          1200      1100      1069      1000                           0  \n4         10000      9000       689       679                           0  \n...         ...       ...       ...       ...                         ...  \n29995      5003      3047      5000      1000                           0  \n29996      8998       129         0         0                           0  \n29997     22000      4200      2000      3100                           1  \n29998      1178      1926     52964      1804                           1  \n29999      1430      1000      1000      1000                           1  \n\n[30000 rows x 25 columns]",
      "text/html": "<div>\n<style scoped>\n    .dataframe tbody tr th:only-of-type {\n        vertical-align: middle;\n    }\n\n    .dataframe tbody tr th {\n        vertical-align: top;\n    }\n\n    .dataframe thead th {\n        text-align: right;\n    }\n</style>\n<table border=\"1\" class=\"dataframe\">\n  <thead>\n    <tr style=\"text-align: right;\">\n      <th></th>\n      <th>ID</th>\n      <th>LIMIT_BAL</th>\n      <th>SEX</th>\n      <th>EDUCATION</th>\n      <th>MARRIAGE</th>\n      <th>AGE</th>\n      <th>PAY_1</th>\n      <th>PAY_2</th>\n      <th>PAY_3</th>\n      <th>PAY_4</th>\n      <th>...</th>\n      <th>BILL_AMT4</th>\n      <th>BILL_AMT5</th>\n      <th>BILL_AMT6</th>\n      <th>PAY_AMT1</th>\n      <th>PAY_AMT2</th>\n      <th>PAY_AMT3</th>\n      <th>PAY_AMT4</th>\n      <th>PAY_AMT5</th>\n      <th>PAY_AMT6</th>\n      <th>default payment next month</th>\n    </tr>\n  </thead>\n  <tbody>\n    <tr>\n      <th>0</th>\n      <td>798fc410-45c1</td>\n      <td>20000</td>\n      <td>2</td>\n      <td>2</td>\n      <td>1</td>\n      <td>24</td>\n      <td>2</td>\n      <td>2</td>\n      <td>-1</td>\n      <td>-1</td>\n      <td>...</td>\n      <td>0</td>\n      <td>0</td>\n      <td>0</td>\n      <td>0</td>\n      <td>689</td>\n      <td>0</td>\n      <td>0</td>\n      <td>0</td>\n      <td>0</td>\n      <td>1</td>\n    </tr>\n    <tr>\n      <th>1</th>\n      <td>8a8c8f3b-8eb4</td>\n      <td>120000</td>\n      <td>2</td>\n      <td>2</td>\n      <td>2</td>\n      <td>26</td>\n      <td>-1</td>\n      <td>2</td>\n      <td>0</td>\n      <td>0</td>\n      <td>...</td>\n      <td>3272</td>\n      <td>3455</td>\n      <td>3261</td>\n      <td>0</td>\n      <td>1000</td>\n      <td>1000</td>\n      <td>1000</td>\n      <td>0</td>\n      <td>2000</td>\n      <td>1</td>\n    </tr>\n    <tr>\n      <th>2</th>\n      <td>85698822-43f5</td>\n      <td>90000</td>\n      <td>2</td>\n      <td>2</td>\n      <td>2</td>\n      <td>34</td>\n      <td>0</td>\n      <td>0</td>\n      <td>0</td>\n      <td>0</td>\n      <td>...</td>\n      <td>14331</td>\n      <td>14948</td>\n      <td>15549</td>\n      <td>1518</td>\n      <td>1500</td>\n      <td>1000</td>\n      <td>1000</td>\n      <td>1000</td>\n      <td>5000</td>\n      <td>0</td>\n    </tr>\n    <tr>\n      <th>3</th>\n      <td>0737c11b-be42</td>\n      <td>50000</td>\n      <td>2</td>\n      <td>2</td>\n      <td>1</td>\n      <td>37</td>\n      <td>0</td>\n      <td>0</td>\n      <td>0</td>\n      <td>0</td>\n      <td>...</td>\n      <td>28314</td>\n      <td>28959</td>\n      <td>29547</td>\n      <td>2000</td>\n      <td>2019</td>\n      <td>1200</td>\n      <td>1100</td>\n      <td>1069</td>\n      <td>1000</td>\n      <td>0</td>\n    </tr>\n    <tr>\n      <th>4</th>\n      <td>3b7f77cc-dbc0</td>\n      <td>50000</td>\n      <td>1</td>\n      <td>2</td>\n      <td>1</td>\n      <td>57</td>\n      <td>-1</td>\n      <td>0</td>\n      <td>-1</td>\n      <td>0</td>\n      <td>...</td>\n      <td>20940</td>\n      <td>19146</td>\n      <td>19131</td>\n      <td>2000</td>\n      <td>36681</td>\n      <td>10000</td>\n      <td>9000</td>\n      <td>689</td>\n      <td>679</td>\n      <td>0</td>\n    </tr>\n    <tr>\n      <th>...</th>\n      <td>...</td>\n      <td>...</td>\n      <td>...</td>\n      <td>...</td>\n      <td>...</td>\n      <td>...</td>\n      <td>...</td>\n      <td>...</td>\n      <td>...</td>\n      <td>...</td>\n      <td>...</td>\n      <td>...</td>\n      <td>...</td>\n      <td>...</td>\n      <td>...</td>\n      <td>...</td>\n      <td>...</td>\n      <td>...</td>\n      <td>...</td>\n      <td>...</td>\n      <td>...</td>\n    </tr>\n    <tr>\n      <th>29995</th>\n      <td>ecff42d0-bdc6</td>\n      <td>220000</td>\n      <td>1</td>\n      <td>3</td>\n      <td>1</td>\n      <td>39</td>\n      <td>0</td>\n      <td>0</td>\n      <td>0</td>\n      <td>0</td>\n      <td>...</td>\n      <td>88004</td>\n      <td>31237</td>\n      <td>15980</td>\n      <td>8500</td>\n      <td>20000</td>\n      <td>5003</td>\n      <td>3047</td>\n      <td>5000</td>\n      <td>1000</td>\n      <td>0</td>\n    </tr>\n    <tr>\n      <th>29996</th>\n      <td>99d1fa0e-222b</td>\n      <td>150000</td>\n      <td>1</td>\n      <td>3</td>\n      <td>2</td>\n      <td>43</td>\n      <td>-1</td>\n      <td>-1</td>\n      <td>-1</td>\n      <td>-1</td>\n      <td>...</td>\n      <td>8979</td>\n      <td>5190</td>\n      <td>0</td>\n      <td>1837</td>\n      <td>3526</td>\n      <td>8998</td>\n      <td>129</td>\n      <td>0</td>\n      <td>0</td>\n      <td>0</td>\n    </tr>\n    <tr>\n      <th>29997</th>\n      <td>95cdd3e7-4f24</td>\n      <td>30000</td>\n      <td>1</td>\n      <td>2</td>\n      <td>2</td>\n      <td>37</td>\n      <td>4</td>\n      <td>3</td>\n      <td>2</td>\n      <td>-1</td>\n      <td>...</td>\n      <td>20878</td>\n      <td>20582</td>\n      <td>19357</td>\n      <td>0</td>\n      <td>0</td>\n      <td>22000</td>\n      <td>4200</td>\n      <td>2000</td>\n      <td>3100</td>\n      <td>1</td>\n    </tr>\n    <tr>\n      <th>29998</th>\n      <td>00d03f02-04cd</td>\n      <td>80000</td>\n      <td>1</td>\n      <td>3</td>\n      <td>1</td>\n      <td>41</td>\n      <td>1</td>\n      <td>-1</td>\n      <td>0</td>\n      <td>0</td>\n      <td>...</td>\n      <td>52774</td>\n      <td>11855</td>\n      <td>48944</td>\n      <td>85900</td>\n      <td>3409</td>\n      <td>1178</td>\n      <td>1926</td>\n      <td>52964</td>\n      <td>1804</td>\n      <td>1</td>\n    </tr>\n    <tr>\n      <th>29999</th>\n      <td>15d69f9f-5ad3</td>\n      <td>50000</td>\n      <td>1</td>\n      <td>2</td>\n      <td>1</td>\n      <td>46</td>\n      <td>0</td>\n      <td>0</td>\n      <td>0</td>\n      <td>0</td>\n      <td>...</td>\n      <td>36535</td>\n      <td>32428</td>\n      <td>15313</td>\n      <td>2078</td>\n      <td>1800</td>\n      <td>1430</td>\n      <td>1000</td>\n      <td>1000</td>\n      <td>1000</td>\n      <td>1</td>\n    </tr>\n  </tbody>\n</table>\n<p>30000 rows × 25 columns</p>\n</div>"
     },
     "execution_count": 2,
     "metadata": {},
     "output_type": "execute_result"
    }
   ],
   "source": [
    "# Read the file into Python\n",
    "de = pd.read_excel('default.xls')\n",
    "de"
   ]
  },
  {
   "cell_type": "code",
   "execution_count": 6,
   "metadata": {},
   "outputs": [
    {
     "name": "stdout",
     "output_type": "stream",
     "text": [
      "<class 'pandas.core.frame.DataFrame'>\n",
      "RangeIndex: 30000 entries, 0 to 29999\n",
      "Data columns (total 25 columns):\n",
      "ID                            30000 non-null object\n",
      "LIMIT_BAL                     30000 non-null int64\n",
      "SEX                           30000 non-null int64\n",
      "EDUCATION                     30000 non-null int64\n",
      "MARRIAGE                      30000 non-null int64\n",
      "AGE                           30000 non-null int64\n",
      "PAY_1                         30000 non-null object\n",
      "PAY_2                         30000 non-null int64\n",
      "PAY_3                         30000 non-null int64\n",
      "PAY_4                         30000 non-null int64\n",
      "PAY_5                         30000 non-null int64\n",
      "PAY_6                         30000 non-null int64\n",
      "BILL_AMT1                     30000 non-null int64\n",
      "BILL_AMT2                     30000 non-null int64\n",
      "BILL_AMT3                     30000 non-null int64\n",
      "BILL_AMT4                     30000 non-null int64\n",
      "BILL_AMT5                     30000 non-null int64\n",
      "BILL_AMT6                     30000 non-null int64\n",
      "PAY_AMT1                      30000 non-null int64\n",
      "PAY_AMT2                      30000 non-null int64\n",
      "PAY_AMT3                      30000 non-null int64\n",
      "PAY_AMT4                      30000 non-null int64\n",
      "PAY_AMT5                      30000 non-null int64\n",
      "PAY_AMT6                      30000 non-null int64\n",
      "default payment next month    30000 non-null int64\n",
      "dtypes: int64(23), object(2)\n",
      "memory usage: 5.7+ MB\n"
     ]
    }
   ],
   "source": [
    "#Exercise 1: List the general info. of this data set. How many rows are there? How many columns?\n"
   ]
  }
 ],
 "metadata": {
  "kernelspec": {
   "display_name": "Python 3",
   "language": "python",
   "name": "python3"
  },
  "language_info": {
   "codemirror_mode": {
    "name": "ipython",
    "version": 3
   },
   "file_extension": ".py",
   "mimetype": "text/x-python",
   "name": "python",
   "nbconvert_exporter": "python",
   "pygments_lexer": "ipython3",
   "version": "3.7.4"
  }
 },
 "nbformat": 4,
 "nbformat_minor": 2
}