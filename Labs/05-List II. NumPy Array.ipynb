{
 "cells": [
  {
   "cell_type": "markdown",
   "metadata": {},
   "source": [
    "# In this session, we learn NumPy Array, the building block of many other more advanced data structures"
   ]
  },
  {
   "cell_type": "markdown",
   "metadata": {},
   "source": [
    "## <font color=\"red\"> NumPy Array </font>"
   ]
  },
  {
   "cell_type": "markdown",
   "metadata": {},
   "source": [
    "## <font color=\"blue\"> 1. Define An Array </font>"
   ]
  },
  {
   "cell_type": "code",
   "execution_count": 2,
   "metadata": {},
   "outputs": [
    {
     "name": "stdout",
     "output_type": "stream",
     "text": [
      "[1, 2, 3]\n",
      "[1 2 3]\n"
     ]
    }
   ],
   "source": [
    "# An NumPy array can be created from a Python list\n",
    "\n",
    "# Notice that we need to import a package to use it. It is recommended that you name it something short like np, but \n",
    "# you are not required to\n",
    "\n",
    "import numpy as np\n",
    "p_list = [1,2,3]\n",
    "print(p_list)\n",
    "a1 = np.array(p_list)\n",
    "print(a1)"
   ]
  },
  {
   "cell_type": "code",
   "execution_count": 3,
   "metadata": {},
   "outputs": [
    {
     "name": "stdout",
     "output_type": "stream",
     "text": [
      "[0, 1, 2, 3, 4, 5, 6, 7, 8, 9] [0 1 2 3 4 5 6 7 8 9]\n"
     ]
    }
   ],
   "source": [
    "# To build an array from scratch, you could use the \"arange\" function -- it is very similar to Python's own range function\n",
    "\n",
    "# In Python:\n",
    "x = list(range(10))\n",
    "\n",
    "# In NumPy:\n",
    "y = np.arange(10)\n",
    "\n",
    "print(x,y)"
   ]
  },
  {
   "cell_type": "code",
   "execution_count": 5,
   "metadata": {},
   "outputs": [
    {
     "name": "stdout",
     "output_type": "stream",
     "text": [
      "[ 2  4  6  8 10 12 14 16 18]\n"
     ]
    }
   ],
   "source": [
    "# you can make full use of the arange() function's parameters, just as you would for range()\n",
    "y = np.arange(2,20,2)\n",
    "# use the \"Tab + Shift\" trick when your mouse is at the end of the arange word, see what these three paramters are\n",
    "# guess what the output looks like?\n",
    "print(y)"
   ]
  },
  {
   "cell_type": "code",
   "execution_count": 9,
   "metadata": {},
   "outputs": [
    {
     "name": "stdout",
     "output_type": "stream",
     "text": [
      "[20 22 24 26 28 30 32 34 36 38 40 42 44 46 48 50]\n"
     ]
    }
   ],
   "source": [
    "# Exercise 1: Create an array that includes all even numbers between 20 and 50 inclusive\n",
    "x = np.arange(20,52,2)\n",
    "print(x)"
   ]
  },
  {
   "cell_type": "code",
   "execution_count": 10,
   "metadata": {},
   "outputs": [
    {
     "name": "stdout",
     "output_type": "stream",
     "text": [
      "[0. 0. 0. 0. 0.]\n"
     ]
    }
   ],
   "source": [
    "# The cool thing about array is that you have many helpful functions when defining one\n",
    "# Try zeros() function:\n",
    "x = np.zeros(5)\n",
    "print(x)"
   ]
  },
  {
   "cell_type": "code",
   "execution_count": 11,
   "metadata": {},
   "outputs": [
    {
     "name": "stdout",
     "output_type": "stream",
     "text": [
      "[1. 1. 1. 1. 1.]\n"
     ]
    }
   ],
   "source": [
    "# It makes an array of zeros! you can also use the ones() function:\n",
    "x = np.ones(5)\n",
    "print(x)\n",
    "# Crazy, isn't it? Is there a twos() function? You can try it out"
   ]
  },
  {
   "cell_type": "code",
   "execution_count": 13,
   "metadata": {},
   "outputs": [
    {
     "name": "stdout",
     "output_type": "stream",
     "text": [
      "[5 5 5 5 5 5 5 5 5 5]\n"
     ]
    }
   ],
   "source": [
    "# There is no \"twos()\" function. However, there is the full() function....\n",
    "# Exercise 2: Use the Tab+Shift trick to learn how the full() function works. Create an array of 10 5's\n",
    "\n",
    "x = np.full(10,5)\n",
    "print(x)"
   ]
  },
  {
   "cell_type": "code",
   "execution_count": 14,
   "metadata": {},
   "outputs": [
    {
     "name": "stdout",
     "output_type": "stream",
     "text": [
      "[0.         0.42105263 0.84210526 1.26315789 1.68421053 2.10526316\n",
      " 2.52631579 2.94736842 3.36842105 3.78947368 4.21052632 4.63157895\n",
      " 5.05263158 5.47368421 5.89473684 6.31578947 6.73684211 7.15789474\n",
      " 7.57894737 8.        ]\n"
     ]
    }
   ],
   "source": [
    "# My favorite is the linspace() function -- you hear it right, it is named under me! :)\n",
    "x = np.linspace(0,8,20)\n",
    "print(x)\n",
    "# Can you guess what it does?"
   ]
  },
  {
   "cell_type": "code",
   "execution_count": 16,
   "metadata": {},
   "outputs": [
    {
     "name": "stdout",
     "output_type": "stream",
     "text": [
      "[  1.           1.19839679   1.39679359   1.59519038   1.79358717\n",
      "   1.99198397   2.19038076   2.38877756   2.58717435   2.78557114\n",
      "   2.98396794   3.18236473   3.38076152   3.57915832   3.77755511\n",
      "   3.9759519    4.1743487    4.37274549   4.57114228   4.76953908\n",
      "   4.96793587   5.16633267   5.36472946   5.56312625   5.76152305\n",
      "   5.95991984   6.15831663   6.35671343   6.55511022   6.75350701\n",
      "   6.95190381   7.1503006    7.34869739   7.54709419   7.74549098\n",
      "   7.94388778   8.14228457   8.34068136   8.53907816   8.73747495\n",
      "   8.93587174   9.13426854   9.33266533   9.53106212   9.72945892\n",
      "   9.92785571  10.12625251  10.3246493   10.52304609  10.72144289\n",
      "  10.91983968  11.11823647  11.31663327  11.51503006  11.71342685\n",
      "  11.91182365  12.11022044  12.30861723  12.50701403  12.70541082\n",
      "  12.90380762  13.10220441  13.3006012   13.498998    13.69739479\n",
      "  13.89579158  14.09418838  14.29258517  14.49098196  14.68937876\n",
      "  14.88777555  15.08617234  15.28456914  15.48296593  15.68136273\n",
      "  15.87975952  16.07815631  16.27655311  16.4749499   16.67334669\n",
      "  16.87174349  17.07014028  17.26853707  17.46693387  17.66533066\n",
      "  17.86372745  18.06212425  18.26052104  18.45891784  18.65731463\n",
      "  18.85571142  19.05410822  19.25250501  19.4509018   19.6492986\n",
      "  19.84769539  20.04609218  20.24448898  20.44288577  20.64128257\n",
      "  20.83967936  21.03807615  21.23647295  21.43486974  21.63326653\n",
      "  21.83166333  22.03006012  22.22845691  22.42685371  22.6252505\n",
      "  22.82364729  23.02204409  23.22044088  23.41883768  23.61723447\n",
      "  23.81563126  24.01402806  24.21242485  24.41082164  24.60921844\n",
      "  24.80761523  25.00601202  25.20440882  25.40280561  25.6012024\n",
      "  25.7995992   25.99799599  26.19639279  26.39478958  26.59318637\n",
      "  26.79158317  26.98997996  27.18837675  27.38677355  27.58517034\n",
      "  27.78356713  27.98196393  28.18036072  28.37875752  28.57715431\n",
      "  28.7755511   28.9739479   29.17234469  29.37074148  29.56913828\n",
      "  29.76753507  29.96593186  30.16432866  30.36272545  30.56112224\n",
      "  30.75951904  30.95791583  31.15631263  31.35470942  31.55310621\n",
      "  31.75150301  31.9498998   32.14829659  32.34669339  32.54509018\n",
      "  32.74348697  32.94188377  33.14028056  33.33867735  33.53707415\n",
      "  33.73547094  33.93386774  34.13226453  34.33066132  34.52905812\n",
      "  34.72745491  34.9258517   35.1242485   35.32264529  35.52104208\n",
      "  35.71943888  35.91783567  36.11623246  36.31462926  36.51302605\n",
      "  36.71142285  36.90981964  37.10821643  37.30661323  37.50501002\n",
      "  37.70340681  37.90180361  38.1002004   38.29859719  38.49699399\n",
      "  38.69539078  38.89378758  39.09218437  39.29058116  39.48897796\n",
      "  39.68737475  39.88577154  40.08416834  40.28256513  40.48096192\n",
      "  40.67935872  40.87775551  41.0761523   41.2745491   41.47294589\n",
      "  41.67134269  41.86973948  42.06813627  42.26653307  42.46492986\n",
      "  42.66332665  42.86172345  43.06012024  43.25851703  43.45691383\n",
      "  43.65531062  43.85370741  44.05210421  44.250501    44.4488978\n",
      "  44.64729459  44.84569138  45.04408818  45.24248497  45.44088176\n",
      "  45.63927856  45.83767535  46.03607214  46.23446894  46.43286573\n",
      "  46.63126253  46.82965932  47.02805611  47.22645291  47.4248497\n",
      "  47.62324649  47.82164329  48.02004008  48.21843687  48.41683367\n",
      "  48.61523046  48.81362725  49.01202405  49.21042084  49.40881764\n",
      "  49.60721443  49.80561122  50.00400802  50.20240481  50.4008016\n",
      "  50.5991984   50.79759519  50.99599198  51.19438878  51.39278557\n",
      "  51.59118236  51.78957916  51.98797595  52.18637275  52.38476954\n",
      "  52.58316633  52.78156313  52.97995992  53.17835671  53.37675351\n",
      "  53.5751503   53.77354709  53.97194389  54.17034068  54.36873747\n",
      "  54.56713427  54.76553106  54.96392786  55.16232465  55.36072144\n",
      "  55.55911824  55.75751503  55.95591182  56.15430862  56.35270541\n",
      "  56.5511022   56.749499    56.94789579  57.14629259  57.34468938\n",
      "  57.54308617  57.74148297  57.93987976  58.13827655  58.33667335\n",
      "  58.53507014  58.73346693  58.93186373  59.13026052  59.32865731\n",
      "  59.52705411  59.7254509   59.9238477   60.12224449  60.32064128\n",
      "  60.51903808  60.71743487  60.91583166  61.11422846  61.31262525\n",
      "  61.51102204  61.70941884  61.90781563  62.10621242  62.30460922\n",
      "  62.50300601  62.70140281  62.8997996   63.09819639  63.29659319\n",
      "  63.49498998  63.69338677  63.89178357  64.09018036  64.28857715\n",
      "  64.48697395  64.68537074  64.88376754  65.08216433  65.28056112\n",
      "  65.47895792  65.67735471  65.8757515   66.0741483   66.27254509\n",
      "  66.47094188  66.66933868  66.86773547  67.06613226  67.26452906\n",
      "  67.46292585  67.66132265  67.85971944  68.05811623  68.25651303\n",
      "  68.45490982  68.65330661  68.85170341  69.0501002   69.24849699\n",
      "  69.44689379  69.64529058  69.84368737  70.04208417  70.24048096\n",
      "  70.43887776  70.63727455  70.83567134  71.03406814  71.23246493\n",
      "  71.43086172  71.62925852  71.82765531  72.0260521   72.2244489\n",
      "  72.42284569  72.62124248  72.81963928  73.01803607  73.21643287\n",
      "  73.41482966  73.61322645  73.81162325  74.01002004  74.20841683\n",
      "  74.40681363  74.60521042  74.80360721  75.00200401  75.2004008\n",
      "  75.3987976   75.59719439  75.79559118  75.99398798  76.19238477\n",
      "  76.39078156  76.58917836  76.78757515  76.98597194  77.18436874\n",
      "  77.38276553  77.58116232  77.77955912  77.97795591  78.17635271\n",
      "  78.3747495   78.57314629  78.77154309  78.96993988  79.16833667\n",
      "  79.36673347  79.56513026  79.76352705  79.96192385  80.16032064\n",
      "  80.35871743  80.55711423  80.75551102  80.95390782  81.15230461\n",
      "  81.3507014   81.5490982   81.74749499  81.94589178  82.14428858\n",
      "  82.34268537  82.54108216  82.73947896  82.93787575  83.13627255\n",
      "  83.33466934  83.53306613  83.73146293  83.92985972  84.12825651\n",
      "  84.32665331  84.5250501   84.72344689  84.92184369  85.12024048\n",
      "  85.31863727  85.51703407  85.71543086  85.91382766  86.11222445\n",
      "  86.31062124  86.50901804  86.70741483  86.90581162  87.10420842\n",
      "  87.30260521  87.501002    87.6993988   87.89779559  88.09619238\n",
      "  88.29458918  88.49298597  88.69138277  88.88977956  89.08817635\n",
      "  89.28657315  89.48496994  89.68336673  89.88176353  90.08016032\n",
      "  90.27855711  90.47695391  90.6753507   90.87374749  91.07214429\n",
      "  91.27054108  91.46893788  91.66733467  91.86573146  92.06412826\n",
      "  92.26252505  92.46092184  92.65931864  92.85771543  93.05611222\n",
      "  93.25450902  93.45290581  93.65130261  93.8496994   94.04809619\n",
      "  94.24649299  94.44488978  94.64328657  94.84168337  95.04008016\n",
      "  95.23847695  95.43687375  95.63527054  95.83366733  96.03206413\n",
      "  96.23046092  96.42885772  96.62725451  96.8256513   97.0240481\n",
      "  97.22244489  97.42084168  97.61923848  97.81763527  98.01603206\n",
      "  98.21442886  98.41282565  98.61122244  98.80961924  99.00801603\n",
      "  99.20641283  99.40480962  99.60320641  99.80160321 100.        ]\n"
     ]
    }
   ],
   "source": [
    "# Exercise 3: Create an array of 500 numbers that are evenly distributed between 1 and 100 inclusive\n",
    "x = np.linspace(1,100,500)\n",
    "print(x)"
   ]
  },
  {
   "cell_type": "code",
   "execution_count": 17,
   "metadata": {},
   "outputs": [
    {
     "name": "stdout",
     "output_type": "stream",
     "text": [
      "[0.81134716 0.96879004 0.90752801 0.60350679 0.42830742 0.19353511\n",
      " 0.33091775 0.11314825 0.33232951 0.84484882]\n"
     ]
    }
   ],
   "source": [
    "# Creating a random array:\n",
    "x = np.random.rand(10)\n",
    "print(x)"
   ]
  },
  {
   "cell_type": "code",
   "execution_count": 18,
   "metadata": {},
   "outputs": [
    {
     "data": {
      "text/plain": "array([34, 21, 35, 35, 20])"
     },
     "execution_count": 18,
     "metadata": {},
     "output_type": "execute_result"
    }
   ],
   "source": [
    "# The \"rand\" function ONLY generates numbers between zero and one\n",
    "# To make bigger integers, you can use randint\n",
    "x = np.random.randint(20,40,5)\n",
    "x"
   ]
  },
  {
   "cell_type": "code",
   "execution_count": 19,
   "metadata": {},
   "outputs": [
    {
     "data": {
      "text/plain": "array([38, 24, 47, 35, 34, 21, 26, 43, 30, 20, 29, 47, 21, 39, 36, 41, 31,\n       48, 45, 41, 31, 47, 47, 37, 32, 44, 38, 30, 47, 44, 21, 35, 48, 23,\n       42, 36, 48, 26, 26, 27, 23, 24, 45, 44, 45, 25, 45, 23, 28, 47, 41,\n       34, 40, 48, 44, 33, 22, 29, 39, 41, 29, 44, 26, 49, 38, 40, 40, 25,\n       41, 49, 20, 42, 31, 39, 42, 24, 22, 38, 39, 29, 35, 23, 25, 49, 46,\n       26, 27, 49, 20, 35, 46, 31, 48, 21, 21, 30, 41, 41, 27, 31])"
     },
     "execution_count": 19,
     "metadata": {},
     "output_type": "execute_result"
    }
   ],
   "source": [
    "# Exercise 4: Create a list of 100 random integers between 20 and 50\n",
    "x = np.random.randint(20,50,100)\n",
    "x"
   ]
  },
  {
   "cell_type": "markdown",
   "metadata": {},
   "source": [
    "## <font color=\"blue\"> 2. Reading Operations in Array </font>"
   ]
  },
  {
   "cell_type": "code",
   "execution_count": 20,
   "metadata": {},
   "outputs": [
    {
     "name": "stdout",
     "output_type": "stream",
     "text": [
      "[ 1  2  3  4  5  6  7  8  9 10]\n",
      "5\n",
      "7\n"
     ]
    }
   ],
   "source": [
    "# If you have no trouble with list indexing, this section should be a piece of cake for you, too\n",
    "# To access one element of an array, it is exactly the same as how you would do it in Python list:\n",
    "a = np.arange(1,11)\n",
    "print(a)\n",
    "print(a[4])\n",
    "print(a[6])\n",
    "# Remember that all Python indexes start at 0"
   ]
  },
  {
   "cell_type": "code",
   "execution_count": 21,
   "metadata": {},
   "outputs": [
    {
     "name": "stdout",
     "output_type": "stream",
     "text": [
      "[5 6]\n"
     ]
    }
   ],
   "source": [
    "# To access more than one element, use the operator \":\" to take a \"slice\"\n",
    "print(a[4:6])"
   ]
  },
  {
   "cell_type": "code",
   "execution_count": 23,
   "metadata": {},
   "outputs": [
    {
     "name": "stdout",
     "output_type": "stream",
     "text": [
      "[5 6]\n",
      "4723576048\n",
      "4484492736\n"
     ]
    }
   ],
   "source": [
    "# Exercise 5: Question -- does slicing (using index to take a portion of an array) return a new array, or merely a reference to\n",
    "# part of the old array? Write code to find out\n",
    "a = np.arange(1,11)\n",
    "b = print(a[4:6])\n",
    "print(id(a))\n",
    "print(id(b))"
   ]
  },
  {
   "cell_type": "code",
   "execution_count": 24,
   "metadata": {},
   "outputs": [
    {
     "name": "stdout",
     "output_type": "stream",
     "text": [
      "[1 2 3 4 5]\n",
      "[ 7  8  9 10]\n",
      "[ 1  2  3  4  5  6  7  8  9 10]\n"
     ]
    }
   ],
   "source": [
    "# You can leave out the index. Leaving out the left means it starts at 0. Leaving out the right means all the way to the end\n",
    "print(a[:5])\n",
    "print(a[6:])\n",
    "print(a[:])"
   ]
  },
  {
   "cell_type": "code",
   "execution_count": 25,
   "metadata": {},
   "outputs": [
    {
     "name": "stdout",
     "output_type": "stream",
     "text": [
      "10\n",
      "7\n",
      "[1 2 3 4 5 6 7 8 9]\n",
      "[10]\n"
     ]
    }
   ],
   "source": [
    "# Negative Indexes: Why don't you run the following and decide how negative indexes work?\n",
    "print(a[-1])\n",
    "print(a[-4])\n",
    "print(a[:-1])\n",
    "print(a[-1:])"
   ]
  },
  {
   "cell_type": "markdown",
   "metadata": {},
   "source": [
    "## <font color=\"blue\"> 3. Writing Operations in Array </font>"
   ]
  },
  {
   "cell_type": "code",
   "execution_count": 26,
   "metadata": {},
   "outputs": [
    {
     "data": {
      "text/plain": "array([ 1,  2,  3,  4,  5,  6,  7,  8,  9, 10])"
     },
     "execution_count": 26,
     "metadata": {},
     "output_type": "execute_result"
    }
   ],
   "source": [
    "np.append(a,[11,12])\n",
    "a\n",
    "#What happened? Why is a not changed?"
   ]
  },
  {
   "cell_type": "code",
   "execution_count": 27,
   "metadata": {},
   "outputs": [
    {
     "name": "stdout",
     "output_type": "stream",
     "text": [
      "4723576048\n",
      "4724283696\n",
      "[ 1  2  3  4  5  6  7  8  9 10] [ 1  2  3  4  5  6  7  8  9 10 10 11]\n"
     ]
    }
   ],
   "source": [
    "b = np.append(a,[10,11])\n",
    "print(id(a))\n",
    "print(id(b))\n",
    "print(a,b)"
   ]
  },
  {
   "cell_type": "code",
   "execution_count": 28,
   "metadata": {},
   "outputs": [
    {
     "name": "stdout",
     "output_type": "stream",
     "text": [
      "[1, 2, 3, 4] None\n",
      "4725054144 4484492736\n"
     ]
    }
   ],
   "source": [
    "#Notice how the append function in array differs from the append function in list\n",
    "test1 = [1,2,3]\n",
    "test2 = test1.append(4)\n",
    "print(test1,test2)\n",
    "print(id(test1),id(test2))"
   ]
  },
  {
   "cell_type": "code",
   "execution_count": null,
   "metadata": {},
   "outputs": [],
   "source": [
    "# In List, the append() function does NOT return any value. It just adds an element to the original list\n",
    "# In Array, the append() function actually creates a NEW array using the parameter being given"
   ]
  },
  {
   "cell_type": "code",
   "execution_count": 29,
   "metadata": {},
   "outputs": [
    {
     "name": "stdout",
     "output_type": "stream",
     "text": [
      "[ 1  2 34]\n"
     ]
    }
   ],
   "source": [
    "# ADVENCED: Array and list is the SAME when it comes to being mutable objects.\n",
    "a = np.array([1,2,3])\n",
    "b = a\n",
    "b[2] = 34\n",
    "print(a)\n",
    "#What do you think will be the result?"
   ]
  },
  {
   "cell_type": "code",
   "execution_count": 30,
   "metadata": {},
   "outputs": [
    {
     "name": "stdout",
     "output_type": "stream",
     "text": [
      "4720157104\n",
      "4720157872\n",
      "[1 2 3] [ 1 20  3]\n"
     ]
    }
   ],
   "source": [
    "# What do we do if we want a COPY of an array, not just a reference to it? This way, we can change it all we want\n",
    "# without worrying about messing up the original\n",
    "a = np.array([1,2,3])\n",
    "b = a.copy()\n",
    "print(id(a))\n",
    "print(id(b))\n",
    "b[1] = 20\n",
    "print(a,b)"
   ]
  },
  {
   "cell_type": "markdown",
   "metadata": {},
   "source": [
    "## <font color=\"blue\"> 4. 2D Array and List </font>"
   ]
  },
  {
   "cell_type": "code",
   "execution_count": 31,
   "metadata": {},
   "outputs": [
    {
     "data": {
      "text/plain": "[[1, 2], [3, 4], [5, 6]]"
     },
     "execution_count": 31,
     "metadata": {},
     "output_type": "execute_result"
    }
   ],
   "source": [
    "# We can also define a 2D list:\n",
    "my_2DList = [[1,2],[3,4],[5,6]]\n",
    "my_2DList"
   ]
  },
  {
   "cell_type": "code",
   "execution_count": 32,
   "metadata": {},
   "outputs": [
    {
     "data": {
      "text/plain": "array([[1, 2],\n       [3, 4],\n       [5, 6]])"
     },
     "execution_count": 32,
     "metadata": {},
     "output_type": "execute_result"
    }
   ],
   "source": [
    "# And a 2D array:\n",
    "my_2DArray = np.array(my_2DList)\n",
    "my_2DArray"
   ]
  },
  {
   "cell_type": "code",
   "execution_count": 33,
   "metadata": {},
   "outputs": [
    {
     "name": "stdout",
     "output_type": "stream",
     "text": [
      "14\n",
      "[[ 4  5]\n",
      " [ 9 10]]\n",
      "[[ 7]\n",
      " [12]]\n",
      "[[ 4  5]\n",
      " [ 9 10]]\n"
     ]
    }
   ],
   "source": [
    "# With 2D array, indexing is even more confusing\n",
    "a3 = np.array([[1,2,3,4,5],[6,7,8,9,10], [11,12,13,14,15]])\n",
    "a3\n",
    "# Exercise 6: Given the array above, let's see if you could correctly predict the outcome of the following codes:\n",
    "print(a3[2,3])\n",
    "print(a3[:2,3:])\n",
    "print(a3[1:3,1:2])\n",
    "print(a3[:-1,-2:])"
   ]
  },
  {
   "cell_type": "code",
   "execution_count": null,
   "metadata": {},
   "outputs": [],
   "source": [
    "#We use the shape ATTRIBUTE to show the shape of a 2D array:\n",
    "my_2DArray.shape"
   ]
  },
  {
   "cell_type": "code",
   "execution_count": 34,
   "metadata": {},
   "outputs": [
    {
     "name": "stdout",
     "output_type": "stream",
     "text": [
      "[[1 2]\n",
      " [3 4]\n",
      " [5 6]]\n",
      "[[1 2]\n",
      " [3 4]\n",
      " [5 6]]\n",
      "[[1 2]\n",
      " [3 4]\n",
      " [5 6]]\n"
     ]
    }
   ],
   "source": [
    "# We can use the reshape() method to reshape our array:\n",
    "my_2DArray.reshape(1,6)\n",
    "print(my_2DArray)\n",
    "my_2DArray.reshape(6,1)\n",
    "print(my_2DArray)\n",
    "my_2DArray.reshape(2,3)\n",
    "print(my_2DArray)\n",
    "# Why don't they change? What happened?"
   ]
  },
  {
   "cell_type": "code",
   "execution_count": null,
   "metadata": {},
   "outputs": [],
   "source": [
    "# Exercise 7: Fix the errors above:\n"
   ]
  },
  {
   "cell_type": "code",
   "execution_count": 35,
   "metadata": {},
   "outputs": [
    {
     "name": "stdout",
     "output_type": "stream",
     "text": [
      "[[86 76 57 25 92 97]\n",
      " [37  2 95  8 94 25]\n",
      " [96 93 52  3 22 56]\n",
      " [24 76 45 55 53 36]]\n",
      "[[86 76 57 25 92 97 37  2]\n",
      " [95  8 94 25 96 93 52  3]\n",
      " [22 56 24 76 45 55 53 36]]\n",
      "[[86 76]\n",
      " [57 25]\n",
      " [92 97]\n",
      " [37  2]\n",
      " [95  8]\n",
      " [94 25]\n",
      " [96 93]\n",
      " [52  3]\n",
      " [22 56]\n",
      " [24 76]\n",
      " [45 55]\n",
      " [53 36]]\n",
      "[[86 76 57]\n",
      " [25 92 97]\n",
      " [37  2 95]\n",
      " [ 8 94 25]\n",
      " [96 93 52]\n",
      " [ 3 22 56]\n",
      " [24 76 45]\n",
      " [55 53 36]]\n",
      "[[86 76 57 25 92 97 37  2 95  8 94 25]\n",
      " [96 93 52  3 22 56 24 76 45 55 53 36]]\n"
     ]
    }
   ],
   "source": [
    "# A very useful way to use the reshape() function is to use \"-1\" to let the function decide the number of rows to create\n",
    "testArray = np.random.randint(2,100,(4,6))\n",
    "print(testArray)\n",
    "x= testArray.reshape(3,-1)\n",
    "print(x)\n",
    "y=testArray.reshape(12,-1)\n",
    "print(y)\n",
    "z=testArray.reshape(8,-1)\n",
    "print(z)\n",
    "w=testArray.reshape(2,-1)\n",
    "print(w)"
   ]
  },
  {
   "cell_type": "markdown",
   "metadata": {},
   "source": [
    "## <font color=\"blue\"> 5. Helpful Functions and Methods </font>"
   ]
  },
  {
   "cell_type": "code",
   "execution_count": 36,
   "metadata": {},
   "outputs": [
    {
     "name": "stdout",
     "output_type": "stream",
     "text": [
      "1\n",
      "10\n"
     ]
    }
   ],
   "source": [
    "# Min and Max always come in handy:\n",
    "a = np.arange(1,11)\n",
    "print(a.min())\n",
    "print(a.max())"
   ]
  },
  {
   "cell_type": "code",
   "execution_count": 37,
   "metadata": {},
   "outputs": [
    {
     "name": "stdout",
     "output_type": "stream",
     "text": [
      "[ 2  1  8  6 10  3  4  5  9  7]\n",
      "1\n",
      "4\n"
     ]
    }
   ],
   "source": [
    "# We can also find WHERE the min and max are in an array -- this will come in handy later\n",
    "import random\n",
    "a = np.arange(1,11)\n",
    "random.shuffle(a)\n",
    "print(a)\n",
    "print(a.argmin())\n",
    "print(a.argmax())"
   ]
  },
  {
   "cell_type": "code",
   "execution_count": 38,
   "metadata": {},
   "outputs": [],
   "source": [
    "# IMPORTANT! One MAJOR advantage of NumPy Array over List is that we could do ARITHMETICS with them\n",
    "# Natural, considering that NumPy was developed for LINEAR ALGEBRA\n",
    "# First let us look at \"+\"\n",
    "l1 = [1,2,3]\n",
    "l2 = [4,5,6]\n",
    "#Guess what will happen if we do l1 + l2?"
   ]
  },
  {
   "cell_type": "code",
   "execution_count": 39,
   "metadata": {},
   "outputs": [
    {
     "data": {
      "text/plain": "[1, 2, 3, 4, 5, 6]"
     },
     "execution_count": 39,
     "metadata": {},
     "output_type": "execute_result"
    }
   ],
   "source": [
    "#Exercise 5: Apply \"+\" to the two lists above and see what you get\n",
    "l1+l2"
   ]
  },
  {
   "cell_type": "code",
   "execution_count": 40,
   "metadata": {},
   "outputs": [
    {
     "data": {
      "text/plain": "array([5, 7, 9])"
     },
     "execution_count": 40,
     "metadata": {},
     "output_type": "execute_result"
    }
   ],
   "source": [
    "#Exercise 6: Apply \"+\" to the two arrays below and see what happens:\n",
    "a1 = np.array(l1)\n",
    "a2 = np.array(l2)\n",
    "a1 + a2"
   ]
  },
  {
   "cell_type": "code",
   "execution_count": 41,
   "metadata": {},
   "outputs": [
    {
     "data": {
      "text/plain": "array([-3, -3, -3])"
     },
     "execution_count": 41,
     "metadata": {},
     "output_type": "execute_result"
    }
   ],
   "source": [
    "#Array allows you to apply \"+\" to CORRESPONDING ELEMENTS, very convenient for vector arithmetics\n",
    "a1 - a2"
   ]
  },
  {
   "cell_type": "code",
   "execution_count": 42,
   "metadata": {},
   "outputs": [
    {
     "data": {
      "text/plain": "array([ 4, 10, 18])"
     },
     "execution_count": 42,
     "metadata": {},
     "output_type": "execute_result"
    }
   ],
   "source": [
    "a1 * a2"
   ]
  },
  {
   "cell_type": "code",
   "execution_count": 43,
   "metadata": {},
   "outputs": [
    {
     "data": {
      "text/plain": "array([0.25, 0.4 , 0.5 ])"
     },
     "execution_count": 43,
     "metadata": {},
     "output_type": "execute_result"
    }
   ],
   "source": [
    "a1 / a2\n",
    "#Warning: be careful about a2 containing zeros!"
   ]
  },
  {
   "cell_type": "code",
   "execution_count": 44,
   "metadata": {},
   "outputs": [
    {
     "data": {
      "text/plain": "array([1, 4, 9])"
     },
     "execution_count": 44,
     "metadata": {},
     "output_type": "execute_result"
    }
   ],
   "source": [
    "a1 ** 2"
   ]
  },
  {
   "cell_type": "code",
   "execution_count": 45,
   "metadata": {},
   "outputs": [
    {
     "data": {
      "text/plain": "array([1.        , 1.41421356, 1.73205081])"
     },
     "execution_count": 45,
     "metadata": {},
     "output_type": "execute_result"
    }
   ],
   "source": [
    "#Some useful numPy array math functions:\n",
    "np.sqrt(a1)"
   ]
  },
  {
   "cell_type": "code",
   "execution_count": 46,
   "metadata": {},
   "outputs": [
    {
     "data": {
      "text/plain": "array([ 2.71828183,  7.3890561 , 20.08553692])"
     },
     "execution_count": 46,
     "metadata": {},
     "output_type": "execute_result"
    }
   ],
   "source": [
    "np.exp(a1)"
   ]
  },
  {
   "cell_type": "code",
   "execution_count": 47,
   "metadata": {},
   "outputs": [
    {
     "name": "stdout",
     "output_type": "stream",
     "text": [
      "[[1 2 3]\n",
      " [4 5 6]\n",
      " [7 8 9]]\n",
      "45\n",
      "[ 1  3  6 10 15 21 28 36 45]\n"
     ]
    }
   ],
   "source": [
    "#sum functions\n",
    "# It is often needed to calculate the sum of elements of an array -- it is very easy\n",
    "a = np.array([[1,2,3],[4,5,6],[7,8,9]])\n",
    "print(a)\n",
    "print(a.sum())\n",
    "print(a.cumsum())"
   ]
  },
  {
   "cell_type": "code",
   "execution_count": 48,
   "metadata": {},
   "outputs": [
    {
     "name": "stdout",
     "output_type": "stream",
     "text": [
      "[0 1 2 3 4 5 6 7 8 9]\n",
      "[False False False False False  True  True  True  True  True]\n"
     ]
    }
   ],
   "source": [
    "#VERY IMPORTANT! Boolean Indexing\n",
    "# A very useful way to index array is to use Boolean indexing. Guess what the following code returns:\n",
    "y = np.arange(10)\n",
    "print(y)\n",
    "print(y>4)"
   ]
  },
  {
   "cell_type": "code",
   "execution_count": 49,
   "metadata": {},
   "outputs": [
    {
     "name": "stdout",
     "output_type": "stream",
     "text": [
      "[False False False False False False False  True  True  True]\n",
      "[7 8 9]\n"
     ]
    }
   ],
   "source": [
    "# When you use comparison on an array, it returns A LIST OF BOOLEAN VALUES\n",
    "# We can then use this list as index to feed back into the array. This is called Boolean Indexing\n",
    "print(y/3>2)\n",
    "print(y[y/3>2])"
   ]
  },
  {
   "cell_type": "code",
   "execution_count": null,
   "outputs": [],
   "source": [],
   "metadata": {
    "collapsed": false,
    "pycharm": {
     "name": "#%%\n"
    }
   }
  }
 ],
 "metadata": {
  "kernelspec": {
   "display_name": "Python 3",
   "language": "python",
   "name": "python3"
  },
  "language_info": {
   "codemirror_mode": {
    "name": "ipython",
    "version": 3
   },
   "file_extension": ".py",
   "mimetype": "text/x-python",
   "name": "python",
   "nbconvert_exporter": "python",
   "pygments_lexer": "ipython3",
   "version": "3.7.4"
  }
 },
 "nbformat": 4,
 "nbformat_minor": 2
}